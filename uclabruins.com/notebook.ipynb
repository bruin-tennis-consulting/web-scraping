{
 "cells": [
  {
   "cell_type": "markdown",
   "id": "1892c709",
   "metadata": {},
   "source": [
    "# Introduction"
   ]
  },
  {
   "cell_type": "markdown",
   "id": "840a9b5a",
   "metadata": {},
   "source": []
  },
  {
   "cell_type": "code",
   "execution_count": null,
   "id": "7d1ae57d",
   "metadata": {},
   "outputs": [],
   "source": []
  },
  {
   "cell_type": "markdown",
   "id": "6b79cfc2",
   "metadata": {},
   "source": [
    "### Postman API"
   ]
  },
  {
   "cell_type": "code",
   "execution_count": 29,
   "id": "8eaeec4e",
   "metadata": {},
   "outputs": [
    {
     "data": {
      "text/plain": [
       "[{'matchNum': '1',\n",
       "  'order': '5',\n",
       "  'tournament': None,\n",
       "  'vh': 'V',\n",
       "  'team': 'Texas A M',\n",
       "  'teamId': 'TAMU',\n",
       "  'uniform1': '6',\n",
       "  'name1': 'Raphael Perot',\n",
       "  'rosterId1': '',\n",
       "  'uniform2': '0',\n",
       "  'name2': '0',\n",
       "  'rosterId2': '',\n",
       "  'set1': '5',\n",
       "  'set2': '3',\n",
       "  'set3': '',\n",
       "  'set4': '',\n",
       "  'set5': '',\n",
       "  'tie1': '',\n",
       "  'tie2': '',\n",
       "  'tie3': '',\n",
       "  'ranknat': '',\n",
       "  'rankreg': '',\n",
       "  'rank': '',\n",
       "  'isWinner': '0'},\n",
       " {'matchNum': '1',\n",
       "  'order': '5',\n",
       "  'tournament': None,\n",
       "  'vh': 'H',\n",
       "  'team': 'UCLA',\n",
       "  'teamId': 'UCLA',\n",
       "  'uniform1': '6',\n",
       "  'name1': 'Govind Nanda',\n",
       "  'rosterId1': '',\n",
       "  'uniform2': '0',\n",
       "  'name2': '0',\n",
       "  'rosterId2': '',\n",
       "  'set1': '7',\n",
       "  'set2': '6',\n",
       "  'set3': '',\n",
       "  'set4': '',\n",
       "  'set5': '',\n",
       "  'tie1': '',\n",
       "  'tie2': '',\n",
       "  'tie3': '',\n",
       "  'ranknat': '',\n",
       "  'rankreg': '',\n",
       "  'rank': '',\n",
       "  'isWinner': '1'}]"
      ]
     },
     "execution_count": 29,
     "metadata": {},
     "output_type": "execute_result"
    }
   ],
   "source": [
    "import requests\n",
    "import json\n",
    "\n",
    "url = \"https://uclabruins.com/api/v2/Stats/boxscore/33233\"\n",
    "\n",
    "payload = {}\n",
    "headers = {\n",
    "  'Accept': 'application/json, text/plain, */*',\n",
    "  'Sec-Fetch-Site': 'same-origin',\n",
    "  'Cookie': '_ga_P4FY9DHXS=GS1.1.1734481402.3.1.1734484889.0.0.0; _ga_JZQD9YYQ1D=GS1.1.1734481401.4.1.1734484878.0.0.0; _ga_Y29PC3P5S9=GS1.1.1734481402.3.1.1734484878.59.0.0; _ga=GA1.2.1043207366.1734338932; _gat_UA-180624321-31=1; _gat_UA-180696617-1=1; _gid=GA1.2.977549202.1734475116; _lr_env=; _lr_google_env=; _gcl_au=1.1.1344610558.1734338932; __eoi=ID=abf06f9f7775e786:T=1734338931:RT=1734484727:S=AA-AfjZn6n07M7Ibm4DzIaXIbZyT; __gads=ID=e4935d738e84544e:T=1734338931:RT=1734484727:S=ALNI_MbgsBUFmyidO9taQnC3QiliXV8yNg; __gpi=UID=00000f74186273d0:T=1734338931:RT=1734484727:S=ALNI_MZ8PrwExJb6Rx1i_zED5tIn4Ifcog; incap_ses_32_3119359=bbrhWwnYfnVb3ksoGLBxAK4iYmcAAAAAOjqC4oWaNMV8Xn4v9uQMxQ==; incap_ses_1837_3119359=4+EAQyzTtA8znCBT7lV+GWUbYmcAAAAAXrSl/6NPjCeofLUE0/NaBA==; _lr_geo_location=US; _lr_geo_location_state=CA; ELOQUA=GUID=ACB468D635E74AE99C210171C996513B; incap_ses_1358_3119359=rgJKP0MR3lL/Q5Ze85XYEnHpX2cAAAAAubyJDjA3TMwKG085wF039A==; nlbi_3119359=jnh8RyinOyts1isZG+UiBAAAAAC8xESK20Won3j9LZvoabEC; visid_incap_3119359=L2xcCY7fT/2hUgMNywuy2XDpX2cAAAAAQUIPAAAAAAABNZa+FGOG+/nLkS3geCnq; incap_ses_1607_3119359=8UrqNUXPYhcEaLyqNjZNFoMkYmcAAAAASttcwUUcoOHqpE1vUDFMFw==; visid_incap_3119359=FIflk8T4RqyNNFgtBPUSBoMkYmcAAAAAQUIPAAAAAABGUK8yOyBAH0PS5DJEA2CS',\n",
    "  'Sec-Fetch-Dest': 'empty',\n",
    "  'Accept-Language': 'en-US,en;q=0.9',\n",
    "  'Sec-Fetch-Mode': 'cors',\n",
    "  'User-Agent': 'Mozilla/5.0 (Macintosh; Intel Mac OS X 10_15_7) AppleWebKit/605.1.15 (KHTML, like Gecko) Version/18.1.1 Safari/605.1.15',\n",
    "  'Accept-Encoding': 'gzip, deflate, br',\n",
    "  'Referer': 'https://uclabruins.com/sports/mens-tennis/stats/2023-24/texas-am/boxscore/33233',\n",
    "  'tenant': 'ucla',\n",
    "  'Priority': 'u=3, i'\n",
    "}\n",
    "\n",
    "response = requests.get(url, headers=headers, data=payload)\n",
    "\n",
    "match_data = response.json()\n",
    "match_data.keys()\n",
    "\n",
    "match_data['singles'][0:2]\n"
   ]
  },
  {
   "cell_type": "code",
   "execution_count": 35,
   "id": "b4bc68d2",
   "metadata": {},
   "outputs": [
    {
     "data": {
      "text/html": [
       "<div>\n",
       "<style scoped>\n",
       "    .dataframe tbody tr th:only-of-type {\n",
       "        vertical-align: middle;\n",
       "    }\n",
       "\n",
       "    .dataframe tbody tr th {\n",
       "        vertical-align: top;\n",
       "    }\n",
       "\n",
       "    .dataframe thead th {\n",
       "        text-align: right;\n",
       "    }\n",
       "</style>\n",
       "<table border=\"1\" class=\"dataframe\">\n",
       "  <thead>\n",
       "    <tr style=\"text-align: right;\">\n",
       "      <th></th>\n",
       "      <th>pdfDoc</th>\n",
       "      <th>thisTeamIsHomeTeam</th>\n",
       "      <th>singles</th>\n",
       "      <th>doubles</th>\n",
       "      <th>thisTeamWon</th>\n",
       "      <th>isNeutral</th>\n",
       "      <th>isALeagueGame</th>\n",
       "      <th>isTournament</th>\n",
       "      <th>homeScore</th>\n",
       "      <th>visitingScore</th>\n",
       "      <th>...</th>\n",
       "      <th>visitingTeam.gameOpponent</th>\n",
       "      <th>visitingTeam.boxscoreUrl</th>\n",
       "      <th>visitingTeam.gameOpponentAbbreviation</th>\n",
       "      <th>visitingTeam.gameOpponentScore</th>\n",
       "      <th>visitingTeam.isAtHome</th>\n",
       "      <th>visitingTeam.atNeutral</th>\n",
       "      <th>visitingTeam.atConferenceGame</th>\n",
       "      <th>visitingTeam.gameId</th>\n",
       "      <th>visitingTeam.gameScore</th>\n",
       "      <th>visitingTeam.winOrLoss</th>\n",
       "    </tr>\n",
       "  </thead>\n",
       "  <tbody>\n",
       "    <tr>\n",
       "      <th>0</th>\n",
       "      <td>https://dxbhsrqyrr690.cloudfront.net/sidearm.n...</td>\n",
       "      <td>True</td>\n",
       "      <td>[{'matchNum': '1', 'order': '5', 'tournament':...</td>\n",
       "      <td>[{'matchNum': '1', 'order': '1', 'tournament':...</td>\n",
       "      <td>False</td>\n",
       "      <td>False</td>\n",
       "      <td>False</td>\n",
       "      <td>False</td>\n",
       "      <td>3</td>\n",
       "      <td>4</td>\n",
       "      <td>...</td>\n",
       "      <td>None</td>\n",
       "      <td>None</td>\n",
       "      <td>None</td>\n",
       "      <td>None</td>\n",
       "      <td>False</td>\n",
       "      <td>False</td>\n",
       "      <td>False</td>\n",
       "      <td>None</td>\n",
       "      <td>None</td>\n",
       "      <td>None</td>\n",
       "    </tr>\n",
       "  </tbody>\n",
       "</table>\n",
       "<p>1 rows × 129 columns</p>\n",
       "</div>"
      ],
      "text/plain": [
       "                                              pdfDoc  thisTeamIsHomeTeam  \\\n",
       "0  https://dxbhsrqyrr690.cloudfront.net/sidearm.n...                True   \n",
       "\n",
       "                                             singles  \\\n",
       "0  [{'matchNum': '1', 'order': '5', 'tournament':...   \n",
       "\n",
       "                                             doubles  thisTeamWon  isNeutral  \\\n",
       "0  [{'matchNum': '1', 'order': '1', 'tournament':...        False      False   \n",
       "\n",
       "   isALeagueGame  isTournament homeScore visitingScore  ...  \\\n",
       "0          False         False         3             4  ...   \n",
       "\n",
       "  visitingTeam.gameOpponent visitingTeam.boxscoreUrl  \\\n",
       "0                      None                     None   \n",
       "\n",
       "  visitingTeam.gameOpponentAbbreviation visitingTeam.gameOpponentScore  \\\n",
       "0                                  None                           None   \n",
       "\n",
       "  visitingTeam.isAtHome visitingTeam.atNeutral visitingTeam.atConferenceGame  \\\n",
       "0                 False                  False                         False   \n",
       "\n",
       "  visitingTeam.gameId visitingTeam.gameScore visitingTeam.winOrLoss  \n",
       "0                None                   None                   None  \n",
       "\n",
       "[1 rows x 129 columns]"
      ]
     },
     "execution_count": 35,
     "metadata": {},
     "output_type": "execute_result"
    }
   ],
   "source": [
    "df = pd.json_normalize(match_data)\n",
    "df"
   ]
  },
  {
   "cell_type": "code",
   "execution_count": 41,
   "id": "e1820e43",
   "metadata": {},
   "outputs": [
    {
     "data": {
      "text/plain": [
       "Index(['matchNum', 'order', 'tournament', 'vh', 'team', 'teamId', 'uniform1',\n",
       "       'name1', 'rosterId1', 'uniform2', 'name2', 'rosterId2', 'set1', 'set2',\n",
       "       'set3', 'set4', 'set5', 'tie1', 'tie2', 'tie3', 'ranknat', 'rankreg',\n",
       "       'rank', 'isWinner'],\n",
       "      dtype='object')"
      ]
     },
     "execution_count": 41,
     "metadata": {},
     "output_type": "execute_result"
    }
   ],
   "source": [
    "df = pd.json_normalize(match_data['singles'])\n",
    "df.columns"
   ]
  },
  {
   "cell_type": "code",
   "execution_count": null,
   "id": "b0ba0a80",
   "metadata": {},
   "outputs": [],
   "source": []
  },
  {
   "cell_type": "code",
   "execution_count": null,
   "id": "97c1bc0a",
   "metadata": {},
   "outputs": [],
   "source": []
  },
  {
   "cell_type": "markdown",
   "id": "accc8e20",
   "metadata": {},
   "source": [
    "# Install Packages"
   ]
  },
  {
   "cell_type": "code",
   "execution_count": 36,
   "id": "e9471797",
   "metadata": {},
   "outputs": [],
   "source": [
    "import requests\n",
    "from bs4 import BeautifulSoup\n",
    "import pandas as pd\n",
    "import numpy as np\n",
    "\n",
    "pd.reset_option('display.max_rows')\n",
    "pd.reset_option('display.max_columns')"
   ]
  },
  {
   "cell_type": "code",
   "execution_count": 9,
   "id": "a196a9f4",
   "metadata": {},
   "outputs": [],
   "source": [
    "url = 'https://colleges.wearecollegetennis.com/Competitions/ITA/Tournaments/draws/7936B43A-D25E-42C1-91D1-A66FE6866E58'\n",
    "url = 'https://ioncourt.com/tournaments/6739fbf93c78a1ac37fbea2b/completed'\n",
    "url = 'https://uclabruins.com/api/v2/Stats/boxscore/33233'\n",
    "page = requests.get(url)"
   ]
  },
  {
   "cell_type": "code",
   "execution_count": 10,
   "id": "2940dcd4",
   "metadata": {
    "scrolled": true
   },
   "outputs": [],
   "source": [
    "soup = BeautifulSoup(page.content, 'html.parser')"
   ]
  },
  {
   "cell_type": "markdown",
   "id": "ede72490",
   "metadata": {},
   "source": [
    "### Check Status Code\n",
    "- 200 = success\n",
    "- 404 = failed"
   ]
  },
  {
   "cell_type": "code",
   "execution_count": 11,
   "id": "39eab77b",
   "metadata": {},
   "outputs": [
    {
     "data": {
      "text/plain": [
       "200"
      ]
     },
     "execution_count": 11,
     "metadata": {},
     "output_type": "execute_result"
    }
   ],
   "source": [
    "page.status_code"
   ]
  },
  {
   "cell_type": "code",
   "execution_count": null,
   "id": "fd3bc113",
   "metadata": {},
   "outputs": [],
   "source": []
  },
  {
   "cell_type": "code",
   "execution_count": 12,
   "id": "9c7ef76f",
   "metadata": {
    "scrolled": false
   },
   "outputs": [
    {
     "data": {
      "text/plain": [
       "{\"pdfDoc\":\"https://dxbhsrqyrr690.cloudfront.net/sidearm.nextgen.sites/uclabruins.com/stats/mten/2023/pdf/20240127123706-240117M.pdf\",\"thisTeamIsHomeTeam\":true,\"venue\":{\"date\":\"1/17/2024\",\"oldDate\":\"0\",\"time\":\"1:00 PM\",\"start\":\"1:00 PM\",\"end\":\"0\",\"duration\":\"\",\"location\":\"Los Angeles, CA\",\"arena\":\"Los Angeles Tennis Center\",\"stadium\":null,\"isALeagueGame\":false,\"isNeutral\":false,\"isAPostseasonGame\":false,\"attendance\":\"0\",\"officials\":[],\"rules\":{\"doublesone\":\"1\",\"doublestwo\":\"0\",\"indivonly\":\"0\",\"suspended\":\"0\",\"format\":\"1\",\"squash\":\"0\"},\"notes\":[],\"tournament\":false,\"tournamentName\":\"\"},\"homeTeam\":{\"id\":\"UCLA\",\"code\":\"\",\"name\":\"UCLA\",\"logo\":\"/images/logos/site/site.png\",\"record\":\"((0-1))\",\"isTenantTeam\":true,\"players\":[{\"name\":\"Ballotta, Gianluca\",\"playerFirstLastName\":\"Gianluca Ballotta\",\"checkName\":\"BALLOTTA,GIANLUCA\",\"nameFromStats\":\"Gianluca Ballotta\",\"uniform\":\"1\",\"rosterPlayerId\":\"13204\",\"playerImageUrl\":\"/images/2023/12/30/MTEN_Headshots_Cropped_Ballotta_Gianluca_007C_c42KK.jpg\",\"playerUrl\":\"/sports/mens-tennis/roster/gianluca-ballotta/13204\",\"gamePlayed\":\"1\",\"singles\":{\"tournament\":false,\"ranknat\":\"93\",\"rankreg\":\"0\",\"lost\":\"0\",\"pair\":\"6\",\"tied\":\"0\",\"won\":\"1\"},\"doubles\":{\"tournament\":false,\"ranknat\":\"0\",\"rankreg\":\"0\",\"lost\":\"0\",\"pair\":\"0\",\"tied\":\"0\",\"won\":\"0\"}},{\"name\":\"Fradkin, Jeffrey\",\"playerFirstLastName\":\"Jeffrey Fradkin\",\"checkName\":\"FRADKIN,JEFFREY\",\"nameFromStats\":\"Jeffrey Fradkin\",\"uniform\":\"2\",\"rosterPlayerId\":\"13205\",\"playerImageUrl\":\"/images/2024/1/15/TEN_Headshots_Fradkin_Jeffrey_011C_Fbnj4.jpg\",\"playerUrl\":\"/sports/mens-tennis/roster/jeffrey-fradkin/13205\",\"gamePlayed\":\"0\",\"singles\":{\"tournament\":false,\"ranknat\":\"0\",\"rankreg\":\"0\",\"lost\":\"0\",\"pair\":\"0\",\"tied\":\"0\",\"won\":\"0\"},\"doubles\":{\"tournament\":false,\"ranknat\":\"0\",\"rankreg\":\"0\",\"lost\":\"0\",\"pair\":\"0\",\"tied\":\"0\",\"won\":\"0\"}},{\"name\":\"Hoogmartens, Alexander\",\"playerFirstLastName\":\"Alexander Hoogmartens\",\"checkName\":\"HOOGMARTENS,A\",\"nameFromStats\":\"A. Hoogmartens\",\"uniform\":\"3\",\"rosterPlayerId\":\"13206\",\"playerImageUrl\":\"/images/2023/12/30/MTEN_Headshots_Cropped_Hoogmartens_Alexander_002C_cyRVF.jpg\",\"playerUrl\":\"/sports/mens-tennis/roster/alexander-hoogmartens/13206\",\"gamePlayed\":\"1\",\"singles\":{\"tournament\":false,\"ranknat\":\"109\",\"rankreg\":\"0\",\"lost\":\"1\",\"pair\":\"2\",\"tied\":\"0\",\"won\":\"0\"},\"doubles\":{\"tournament\":false,\"ranknat\":\"0\",\"rankreg\":\"0\",\"lost\":\"1\",\"pair\":\"2\",\"tied\":\"0\",\"won\":\"0\"}},{\"name\":\"Johnson, Spencer\",\"playerFirstLastName\":\"Spencer Johnson\",\"checkName\":\"JOHNSON,SPENCER\",\"nameFromStats\":\"Spencer Johnson\",\"uniform\":\"4\",\"rosterPlayerId\":\"13219\",\"playerImageUrl\":\"/images/2023/12/30/MTEN_Headshots_Cropped_Johnson_Spencer_005C_mSPSg.jpg\",\"playerUrl\":\"/sports/mens-tennis/roster/spencer-johnson/13219\",\"gamePlayed\":\"1\",\"singles\":{\"tournament\":false,\"ranknat\":\"0\",\"rankreg\":\"0\",\"lost\":\"1\",\"pair\":\"5\",\"tied\":\"0\",\"won\":\"0\"},\"doubles\":{\"tournament\":false,\"ranknat\":\"0\",\"rankreg\":\"0\",\"lost\":\"0\",\"pair\":\"3\",\"tied\":\"1\",\"won\":\"0\"}},{\"name\":\"Li, Timothy\",\"playerFirstLastName\":\"Timothy Li\",\"checkName\":\"LI,TIMOTHY\",\"nameFromStats\":\"Timothy Li\",\"uniform\":\"5\",\"rosterPlayerId\":\"13207\",\"playerImageUrl\":\"/images/2023/12/30/MTEN_Headshots_Cropped_Li_Timothy_007C_hwqyV.jpg\",\"playerUrl\":\"/sports/mens-tennis/roster/timothy-li/13207\",\"gamePlayed\":\"1\",\"singles\":{\"tournament\":false,\"ranknat\":\"0\",\"rankreg\":\"0\",\"lost\":\"0\",\"pair\":\"0\",\"tied\":\"0\",\"won\":\"0\"},\"doubles\":{\"tournament\":false,\"ranknat\":\"0\",\"rankreg\":\"0\",\"lost\":\"1\",\"pair\":\"1\",\"tied\":\"0\",\"won\":\"0\"}},{\"name\":\"Nanda, Govind\",\"playerFirstLastName\":\"Govind Nanda\",\"checkName\":\"NANDA,GOVIND\",\"nameFromStats\":\"Govind Nanda\",\"uniform\":\"6\",\"rosterPlayerId\":\"13218\",\"playerImageUrl\":\"/images/2023/12/30/MTEN_Headshots_Cropped_Nanda_Govind_017C_xv0aT.jpg\",\"playerUrl\":\"/sports/mens-tennis/roster/govind-nanda/13218\",\"gamePlayed\":\"1\",\"singles\":{\"tournament\":false,\"ranknat\":\"0\",\"rankreg\":\"0\",\"lost\":\"0\",\"pair\":\"1\",\"tied\":\"0\",\"won\":\"1\"},\"doubles\":{\"tournament\":false,\"ranknat\":\"0\",\"rankreg\":\"0\",\"lost\":\"1\",\"pair\":\"2\",\"tied\":\"0\",\"won\":\"0\"}},{\"name\":\"Plans Gonzalez, Jorge\",\"playerFirstLastName\":\"Jorge Plans Gonzalez\",\"checkName\":\"GONZALEZ,JORGE PLANS\",\"nameFromStats\":\"Jorge Plans Gonzalez\",\"uniform\":\"7\",\"rosterPlayerId\":\"13220\",\"playerImageUrl\":\"/images/2023/12/30/MTEN_Headshots_Cropped_Gonzalez_Jorge-Plans_002C_Yklpf.jpg\",\"playerUrl\":\"/sports/mens-tennis/roster/jorge-plans-gonzalez/13220\",\"gamePlayed\":\"0\",\"singles\":{\"tournament\":false,\"ranknat\":\"0\",\"rankreg\":\"0\",\"lost\":\"0\",\"pair\":\"0\",\"tied\":\"0\",\"won\":\"0\"},\"doubles\":{\"tournament\":false,\"ranknat\":\"0\",\"rankreg\":\"0\",\"lost\":\"0\",\"pair\":\"0\",\"tied\":\"0\",\"won\":\"0\"}},{\"name\":\"Tripathi, Aadarsh\",\"playerFirstLastName\":\"Aadarsh Tripathi\",\"checkName\":\"TRIPATHI,AADARSH\",\"nameFromStats\":\"Aadarsh Tripathi\",\"uniform\":\"8\",\"rosterPlayerId\":\"13208\",\"playerImageUrl\":\"/images/2023/12/30/MTEN_Headshots_Cropped_Tripathi_Aadarsh_005C_HJaAm.jpg\",\"playerUrl\":\"/sports/mens-tennis/roster/aadarsh-tripathi/13208\",\"gamePlayed\":\"1\",\"singles\":{\"tournament\":false,\"ranknat\":\"0\",\"rankreg\":\"0\",\"lost\":\"1\",\"pair\":\"4\",\"tied\":\"0\",\"won\":\"0\"},\"doubles\":{\"tournament\":false,\"ranknat\":\"0\",\"rankreg\":\"0\",\"lost\":\"0\",\"pair\":\"0\",\"tied\":\"0\",\"won\":\"0\"}},{\"name\":\"van Loben Sels, Emon\",\"playerFirstLastName\":\"Emon van Loben Sels\",\"checkName\":\"SELS,EMON VAN LOBEN\",\"nameFromStats\":\"Emon van Loben Sels\",\"uniform\":\"9\",\"rosterPlayerId\":\"13209\",\"playerImageUrl\":\"/images/2023/12/30/MTEN_Headshots_Cropped_van_Loben_Sels_Emon_004C_RR3PL.jpg\",\"playerUrl\":\"/sports/mens-tennis/roster/emon-van-loben-sels/13209\",\"gamePlayed\":\"1\",\"singles\":{\"tournament\":false,\"ranknat\":\"0\",\"rankreg\":\"0\",\"lost\":\"0\",\"pair\":\"0\",\"tied\":\"0\",\"won\":\"0\"},\"doubles\":{\"tournament\":false,\"ranknat\":\"0\",\"rankreg\":\"0\",\"lost\":\"0\",\"pair\":\"3\",\"tied\":\"1\",\"won\":\"0\"}},{\"name\":\"Visaya, Azuma\",\"playerFirstLastName\":\"Azuma Visaya\",\"checkName\":\"VISAYA,AZUMA\",\"nameFromStats\":\"Azuma Visaya\",\"uniform\":\"10\",\"rosterPlayerId\":\"13210\",\"playerImageUrl\":\"/images/2023/12/30/MTEN_Headshots_Cropped_Visaya_Azuma_006C_TDO95.jpg\",\"playerUrl\":\"/sports/mens-tennis/roster/azuma-visaya/13210\",\"gamePlayed\":\"0\",\"singles\":{\"tournament\":false,\"ranknat\":\"0\",\"rankreg\":\"0\",\"lost\":\"0\",\"pair\":\"0\",\"tied\":\"0\",\"won\":\"0\"},\"doubles\":{\"tournament\":false,\"ranknat\":\"0\",\"rankreg\":\"0\",\"lost\":\"0\",\"pair\":\"0\",\"tied\":\"0\",\"won\":\"0\"}},{\"name\":\"Revelli, Giacomo\",\"playerFirstLastName\":\"Giacomo Revelli\",\"checkName\":\"REVELLI,GIACOMO\",\"nameFromStats\":\"Giacomo Revelli\",\"uniform\":\"11\",\"rosterPlayerId\":\"14249\",\"playerImageUrl\":\"/images/2024/1/15/TEN_Headshots_Revelli_Giacomo_002C_VUqkz.jpg\",\"playerUrl\":\"/sports/mens-tennis/roster/giacomo-revelli/14249\",\"gamePlayed\":\"1\",\"singles\":{\"tournament\":false,\"ranknat\":\"0\",\"rankreg\":\"0\",\"lost\":\"0\",\"pair\":\"3\",\"tied\":\"0\",\"won\":\"1\"},\"doubles\":{\"tournament\":false,\"ranknat\":\"0\",\"rankreg\":\"0\",\"lost\":\"1\",\"pair\":\"1\",\"tied\":\"0\",\"won\":\"0\"}},{\"name\":\"Leustian, Stefan\",\"playerFirstLastName\":\"Stefan Leustian\",\"checkName\":\"LEUSTIAN,STEFAN\",\"nameFromStats\":\"Stefan Leustian\",\"uniform\":\"12\",\"rosterPlayerId\":\"14262\",\"playerImageUrl\":\"/images/2024/1/15/TEN_Headshots_Leustian_Stefan_007C_B10eK.jpg\",\"playerUrl\":\"/sports/mens-tennis/roster/stefan-leustian/14262\",\"gamePlayed\":\"0\",\"singles\":{\"tournament\":false,\"ranknat\":\"0\",\"rankreg\":\"0\",\"lost\":\"0\",\"pair\":\"0\",\"tied\":\"0\",\"won\":\"0\"},\"doubles\":{\"tournament\":false,\"ranknat\":\"0\",\"rankreg\":\"0\",\"lost\":\"0\",\"pair\":\"0\",\"tied\":\"0\",\"won\":\"0\"}},{\"name\":\"No player\",\"playerFirstLastName\":null,\"checkName\":\"PLAYER,NO\",\"nameFromStats\":\"No player\",\"uniform\":\"TM\",\"rosterPlayerId\":null,\"playerImageUrl\":null,\"playerUrl\":null,\"gamePlayed\":\"0\",\"singles\":{\"tournament\":false,\"ranknat\":\"0\",\"rankreg\":\"0\",\"lost\":\"0\",\"pair\":\"0\",\"tied\":\"0\",\"won\":\"0\"},\"doubles\":{\"tournament\":false,\"ranknat\":\"0\",\"rankreg\":\"0\",\"lost\":\"0\",\"pair\":\"0\",\"tied\":\"0\",\"won\":\"0\"}}],\"totals\":{\"singlesWon\":\"3\",\"singlesLost\":\"3\",\"doublesWon\":\"0\",\"doublesLost\":\"2\"},\"singles\":[{\"position\":\"1\",\"tournamentTeam\":\"\",\"opponent\":\"Raphael Perot\",\"opponentRank\":\"\",\"outcome\":\"W\",\"score\":\"Won 7-5, 6-3\",\"player1\":\"Govind Nanda\",\"player2\":\"\",\"ranking\":\"-/-\"},{\"position\":\"2\",\"tournamentTeam\":\"\",\"opponent\":\"JC Roddick\",\"opponentRank\":\" (109/-)\",\"outcome\":\"L\",\"score\":\"Loss 6-7 (4-7), 1-6\",\"player1\":\"A. Hoogmartens\",\"player2\":\"\",\"ranking\":\"-/-\"},{\"position\":\"3\",\"tournamentTeam\":\"\",\"opponent\":\"Togan Tokac\",\"opponentRank\":\"\",\"outcome\":\"W\",\"score\":\"Won 6-2, 6-3\",\"player1\":\"Giacomo Revelli\",\"player2\":\"\",\"ranking\":\"-/-\"},{\"position\":\"4\",\"tournamentTeam\":\"\",\"opponent\":\"Giulio Perego\",\"opponentRank\":\"\",\"outcome\":\"L\",\"score\":\"Loss 4-6, 4-6\",\"player1\":\"Aadarsh Tripathi\",\"player2\":\"\",\"ranking\":\"-/-\"},{\"position\":\"5\",\"tournamentTeam\":\"\",\"opponent\":\"Tiago Pires\",\"opponentRank\":\"\",\"outcome\":\"L\",\"score\":\"Loss 4-6, 3-6\",\"player1\":\"Spencer Johnson\",\"player2\":\"\",\"ranking\":\"-/-\"},{\"position\":\"6\",\"tournamentTeam\":\"\",\"opponent\":\"Luke Casper\",\"opponentRank\":\" (93/-)\",\"outcome\":\"W\",\"score\":\"Won 6-4, 3-6, 1-0 (10-6)\",\"player1\":\"Gianluca Ballotta\",\"player2\":\"\",\"ranking\":\"121/-\"}],\"doubles\":[{\"position\":\"1\",\"tournamentTeam\":\"\",\"opponent\":\"Giulio Perego / Togan Tokac\",\"opponentRank\":\"\",\"outcome\":\"L\",\"score\":\"Loss 1-6\",\"player1\":\"Timothy Li\",\"player2\":\"Giacomo Revelli\",\"ranking\":\"-/-\"},{\"position\":\"2\",\"tournamentTeam\":\"\",\"opponent\":\"Luke Casper / JC Roddick\",\"opponentRank\":\"\",\"outcome\":\"L\",\"score\":\"Loss 3-6\",\"player1\":\"A. Hoogmartens\",\"player2\":\"Govind Nanda\",\"ranking\":\"-/-\"},{\"position\":\"3\",\"tournamentTeam\":\"\",\"opponent\":\"Raphael Perot / Tiago Pires\",\"opponentRank\":\"\",\"outcome\":\"u\",\"score\":\" 4-3, unfinished\",\"player1\":\"Spencer Johnson\",\"player2\":\"Emon van Loben Sels\",\"ranking\":\"-/-\"}],\"doublesTeams\":[{\"name\":\"Giacomo Revelli|Timothy Li\",\"playerFirstLastName\":null,\"checkName\":null,\"nameFromStats\":null,\"uniform\":\"11|5\",\"rosterPlayerId\":null,\"playerImageUrl\":null,\"playerUrl\":null,\"gamePlayed\":null,\"singles\":null,\"doubles\":{\"tournament\":false,\"ranknat\":\"0\",\"rankreg\":\"0\",\"lost\":\"1\",\"pair\":\"1\",\"tied\":\"0\",\"won\":\"0\"}},{\"name\":\"A. Hoogmartens|Govind Nanda\",\"playerFirstLastName\":null,\"checkName\":null,\"nameFromStats\":null,\"uniform\":\"3|6\",\"rosterPlayerId\":null,\"playerImageUrl\":null,\"playerUrl\":null,\"gamePlayed\":null,\"singles\":null,\"doubles\":{\"tournament\":false,\"ranknat\":\"0\",\"rankreg\":\"0\",\"lost\":\"1\",\"pair\":\"2\",\"tied\":\"0\",\"won\":\"0\"}}],\"oldDate\":null,\"gameTime\":null,\"tournament\":false,\"tournamentName\":null,\"location\":null,\"overallRecord\":\"0-1\",\"confRecord\":\"0-0\",\"thisTeamWon\":false,\"score\":null,\"rank\":null,\"ranknat\":\"0\",\"rankreg\":\"0\",\"gameDate\":null,\"gameOpponent\":null,\"boxscoreUrl\":null,\"gameOpponentAbbreviation\":null,\"gameOpponentScore\":null,\"isAtHome\":false,\"atNeutral\":false,\"atConferenceGame\":false,\"gameId\":null,\"gameScore\":null,\"winOrLoss\":null},\"visitingTeam\":{\"id\":\"TAMU\",\"code\":\"\",\"name\":\"Texas A M\",\"logo\":\"/images/logos/tamu-logo-2024.png\",\"record\":\"((1-0))\",\"isTenantTeam\":false,\"players\":[{\"name\":\"Luke Casper\",\"playerFirstLastName\":null,\"checkName\":\"CASPER,LUKE\",\"nameFromStats\":\"Luke Casper\",\"uniform\":\"1\",\"rosterPlayerId\":null,\"playerImageUrl\":null,\"playerUrl\":null,\"gamePlayed\":\"1\",\"singles\":{\"tournament\":false,\"ranknat\":\"121\",\"rankreg\":\"0\",\"lost\":\"1\",\"pair\":\"6\",\"tied\":\"0\",\"won\":\"0\"},\"doubles\":{\"tournament\":false,\"ranknat\":\"0\",\"rankreg\":\"0\",\"lost\":\"0\",\"pair\":\"2\",\"tied\":\"0\",\"won\":\"1\"}},{\"name\":\"Grant Lothringer\",\"playerFirstLastName\":null,\"checkName\":\"LOTHRINGER,GRANT\",\"nameFromStats\":\"Grant Lothringer\",\"uniform\":\"2\",\"rosterPlayerId\":null,\"playerImageUrl\":null,\"playerUrl\":null,\"gamePlayed\":\"0\",\"singles\":{\"tournament\":false,\"ranknat\":\"0\",\"rankreg\":\"0\",\"lost\":\"0\",\"pair\":\"0\",\"tied\":\"0\",\"won\":\"0\"},\"doubles\":{\"tournament\":false,\"ranknat\":\"0\",\"rankreg\":\"0\",\"lost\":\"0\",\"pair\":\"0\",\"tied\":\"0\",\"won\":\"0\"}},{\"name\":\"Brayden Michna\",\"playerFirstLastName\":null,\"checkName\":\"MICHNA,BRAYDEN\",\"nameFromStats\":\"Brayden Michna\",\"uniform\":\"3\",\"rosterPlayerId\":null,\"playerImageUrl\":null,\"playerUrl\":null,\"gamePlayed\":\"0\",\"singles\":{\"tournament\":false,\"ranknat\":\"0\",\"rankreg\":\"0\",\"lost\":\"0\",\"pair\":\"0\",\"tied\":\"0\",\"won\":\"0\"},\"doubles\":{\"tournament\":false,\"ranknat\":\"0\",\"rankreg\":\"0\",\"lost\":\"0\",\"pair\":\"0\",\"tied\":\"0\",\"won\":\"0\"}},{\"name\":\"Ritesh Patil\",\"playerFirstLastName\":null,\"checkName\":\"PATIL,RITESH\",\"nameFromStats\":\"Ritesh Patil\",\"uniform\":\"4\",\"rosterPlayerId\":null,\"playerImageUrl\":null,\"playerUrl\":null,\"gamePlayed\":\"0\",\"singles\":{\"tournament\":false,\"ranknat\":\"0\",\"rankreg\":\"0\",\"lost\":\"0\",\"pair\":\"0\",\"tied\":\"0\",\"won\":\"0\"},\"doubles\":{\"tournament\":false,\"ranknat\":\"0\",\"rankreg\":\"0\",\"lost\":\"0\",\"pair\":\"0\",\"tied\":\"0\",\"won\":\"0\"}},{\"name\":\"Giulio Perego\",\"playerFirstLastName\":null,\"checkName\":\"PEREGO,GIULIO\",\"nameFromStats\":\"Giulio Perego\",\"uniform\":\"5\",\"rosterPlayerId\":null,\"playerImageUrl\":null,\"playerUrl\":null,\"gamePlayed\":\"1\",\"singles\":{\"tournament\":false,\"ranknat\":\"0\",\"rankreg\":\"0\",\"lost\":\"0\",\"pair\":\"4\",\"tied\":\"0\",\"won\":\"1\"},\"doubles\":{\"tournament\":false,\"ranknat\":\"0\",\"rankreg\":\"0\",\"lost\":\"0\",\"pair\":\"1\",\"tied\":\"0\",\"won\":\"1\"}},{\"name\":\"Raphael Perot\",\"playerFirstLastName\":null,\"checkName\":\"PEROT,RAPHAEL\",\"nameFromStats\":\"Raphael Perot\",\"uniform\":\"6\",\"rosterPlayerId\":null,\"playerImageUrl\":null,\"playerUrl\":null,\"gamePlayed\":\"1\",\"singles\":{\"tournament\":false,\"ranknat\":\"0\",\"rankreg\":\"0\",\"lost\":\"1\",\"pair\":\"1\",\"tied\":\"0\",\"won\":\"0\"},\"doubles\":{\"tournament\":false,\"ranknat\":\"0\",\"rankreg\":\"0\",\"lost\":\"0\",\"pair\":\"3\",\"tied\":\"1\",\"won\":\"0\"}},{\"name\":\"Tiago Pires\",\"playerFirstLastName\":null,\"checkName\":\"PIRES,TIAGO\",\"nameFromStats\":\"Tiago Pires\",\"uniform\":\"7\",\"rosterPlayerId\":null,\"playerImageUrl\":null,\"playerUrl\":null,\"gamePlayed\":\"1\",\"singles\":{\"tournament\":false,\"ranknat\":\"0\",\"rankreg\":\"0\",\"lost\":\"0\",\"pair\":\"5\",\"tied\":\"0\",\"won\":\"1\"},\"doubles\":{\"tournament\":false,\"ranknat\":\"0\",\"rankreg\":\"0\",\"lost\":\"0\",\"pair\":\"3\",\"tied\":\"1\",\"won\":\"0\"}},{\"name\":\"JC Roddick\",\"playerFirstLastName\":null,\"checkName\":\"RODDICK,JC\",\"nameFromStats\":\"JC Roddick\",\"uniform\":\"8\",\"rosterPlayerId\":null,\"playerImageUrl\":null,\"playerUrl\":null,\"gamePlayed\":\"1\",\"singles\":{\"tournament\":false,\"ranknat\":\"0\",\"rankreg\":\"0\",\"lost\":\"0\",\"pair\":\"2\",\"tied\":\"0\",\"won\":\"1\"},\"doubles\":{\"tournament\":false,\"ranknat\":\"0\",\"rankreg\":\"0\",\"lost\":\"0\",\"pair\":\"2\",\"tied\":\"0\",\"won\":\"1\"}},{\"name\":\"Matthis Ross\",\"playerFirstLastName\":null,\"checkName\":\"ROSS,MATTHIS\",\"nameFromStats\":\"Matthis Ross\",\"uniform\":\"9\",\"rosterPlayerId\":null,\"playerImageUrl\":null,\"playerUrl\":null,\"gamePlayed\":\"0\",\"singles\":{\"tournament\":false,\"ranknat\":\"0\",\"rankreg\":\"0\",\"lost\":\"0\",\"pair\":\"0\",\"tied\":\"0\",\"won\":\"0\"},\"doubles\":{\"tournament\":false,\"ranknat\":\"0\",\"rankreg\":\"0\",\"lost\":\"0\",\"pair\":\"0\",\"tied\":\"0\",\"won\":\"0\"}},{\"name\":\"Ethan Silva\",\"playerFirstLastName\":null,\"checkName\":\"SILVA,ETHAN\",\"nameFromStats\":\"Ethan Silva\",\"uniform\":\"10\",\"rosterPlayerId\":null,\"playerImageUrl\":null,\"playerUrl\":null,\"gamePlayed\":\"0\",\"singles\":{\"tournament\":false,\"ranknat\":\"0\",\"rankreg\":\"0\",\"lost\":\"0\",\"pair\":\"0\",\"tied\":\"0\",\"won\":\"0\"},\"doubles\":{\"tournament\":false,\"ranknat\":\"0\",\"rankreg\":\"0\",\"lost\":\"0\",\"pair\":\"0\",\"tied\":\"0\",\"won\":\"0\"}},{\"name\":\"Lathan Skrobarcek\",\"playerFirstLastName\":null,\"checkName\":\"SKROBARCEK,LATHAN\",\"nameFromStats\":\"Lathan Skrobarcek\",\"uniform\":\"11\",\"rosterPlayerId\":null,\"playerImageUrl\":null,\"playerUrl\":null,\"gamePlayed\":\"0\",\"singles\":{\"tournament\":false,\"ranknat\":\"0\",\"rankreg\":\"0\",\"lost\":\"0\",\"pair\":\"0\",\"tied\":\"0\",\"won\":\"0\"},\"doubles\":{\"tournament\":false,\"ranknat\":\"0\",\"rankreg\":\"0\",\"lost\":\"0\",\"pair\":\"0\",\"tied\":\"0\",\"won\":\"0\"}},{\"name\":\"Kenner Taylor\",\"playerFirstLastName\":null,\"checkName\":\"TAYLOR,KENNER\",\"nameFromStats\":\"Kenner Taylor\",\"uniform\":\"12\",\"rosterPlayerId\":null,\"playerImageUrl\":null,\"playerUrl\":null,\"gamePlayed\":\"0\",\"singles\":{\"tournament\":false,\"ranknat\":\"0\",\"rankreg\":\"0\",\"lost\":\"0\",\"pair\":\"0\",\"tied\":\"0\",\"won\":\"0\"},\"doubles\":{\"tournament\":false,\"ranknat\":\"0\",\"rankreg\":\"0\",\"lost\":\"0\",\"pair\":\"0\",\"tied\":\"0\",\"won\":\"0\"}},{\"name\":\"Togan Tokac\",\"playerFirstLastName\":null,\"checkName\":\"TOKAC,TOGAN\",\"nameFromStats\":\"Togan Tokac\",\"uniform\":\"13\",\"rosterPlayerId\":null,\"playerImageUrl\":null,\"playerUrl\":null,\"gamePlayed\":\"1\",\"singles\":{\"tournament\":false,\"ranknat\":\"0\",\"rankreg\":\"0\",\"lost\":\"1\",\"pair\":\"3\",\"tied\":\"0\",\"won\":\"0\"},\"doubles\":{\"tournament\":false,\"ranknat\":\"0\",\"rankreg\":\"0\",\"lost\":\"0\",\"pair\":\"1\",\"tied\":\"0\",\"won\":\"1\"}},{\"name\":\"No player\",\"playerFirstLastName\":null,\"checkName\":\"PLAYER,NO\",\"nameFromStats\":\"No player\",\"uniform\":\"TM\",\"rosterPlayerId\":null,\"playerImageUrl\":null,\"playerUrl\":null,\"gamePlayed\":\"0\",\"singles\":{\"tournament\":false,\"ranknat\":\"0\",\"rankreg\":\"0\",\"lost\":\"0\",\"pair\":\"0\",\"tied\":\"0\",\"won\":\"0\"},\"doubles\":{\"tournament\":false,\"ranknat\":\"0\",\"rankreg\":\"0\",\"lost\":\"0\",\"pair\":\"0\",\"tied\":\"0\",\"won\":\"0\"}}],\"totals\":{\"singlesWon\":\"3\",\"singlesLost\":\"3\",\"doublesWon\":\"1\",\"doublesLost\":\"0\"},\"singles\":[{\"position\":\"1\",\"tournamentTeam\":\"\",\"opponent\":\"Govind Nanda\",\"opponentRank\":\"\",\"outcome\":\"L\",\"score\":\"Loss 5-7, 3-6\",\"player1\":\"Raphael Perot\",\"player2\":\"\",\"ranking\":\"-/-\"},{\"position\":\"2\",\"tournamentTeam\":\"\",\"opponent\":\"A. Hoogmartens\",\"opponentRank\":\"\",\"outcome\":\"W\",\"score\":\"Won 7-6 (7-4), 6-1\",\"player1\":\"JC Roddick\",\"player2\":\"\",\"ranking\":\"109/-\"},{\"position\":\"3\",\"tournamentTeam\":\"\",\"opponent\":\"Giacomo Revelli\",\"opponentRank\":\"\",\"outcome\":\"L\",\"score\":\"Loss 2-6, 3-6\",\"player1\":\"Togan Tokac\",\"player2\":\"\",\"ranking\":\"-/-\"},{\"position\":\"4\",\"tournamentTeam\":\"\",\"opponent\":\"Aadarsh Tripathi\",\"opponentRank\":\"\",\"outcome\":\"W\",\"score\":\"Won 6-4, 6-4\",\"player1\":\"Giulio Perego\",\"player2\":\"\",\"ranking\":\"-/-\"},{\"position\":\"5\",\"tournamentTeam\":\"\",\"opponent\":\"Spencer Johnson\",\"opponentRank\":\"\",\"outcome\":\"W\",\"score\":\"Won 6-4, 6-3\",\"player1\":\"Tiago Pires\",\"player2\":\"\",\"ranking\":\"-/-\"},{\"position\":\"6\",\"tournamentTeam\":\"\",\"opponent\":\"Gianluca Ballotta\",\"opponentRank\":\" (121/-)\",\"outcome\":\"L\",\"score\":\"Loss 4-6, 6-3, 0-1 (6-10)\",\"player1\":\"Luke Casper\",\"player2\":\"\",\"ranking\":\"93/-\"}],\"doubles\":[{\"position\":\"1\",\"tournamentTeam\":\"\",\"opponent\":\"Timothy Li / Giacomo Revelli\",\"opponentRank\":\"\",\"outcome\":\"W\",\"score\":\"Won 6-1\",\"player1\":\"Giulio Perego\",\"player2\":\"Togan Tokac\",\"ranking\":\"-/-\"},{\"position\":\"2\",\"tournamentTeam\":\"\",\"opponent\":\"A. Hoogmartens / Govind Nanda\",\"opponentRank\":\"\",\"outcome\":\"W\",\"score\":\"Won 6-3\",\"player1\":\"Luke Casper\",\"player2\":\"JC Roddick\",\"ranking\":\"-/-\"},{\"position\":\"3\",\"tournamentTeam\":\"\",\"opponent\":\"Spencer Johnson / Emon van Loben Sels\",\"opponentRank\":\"\",\"outcome\":\"u\",\"score\":\" 3-4, unfinished\",\"player1\":\"Raphael Perot\",\"player2\":\"Tiago Pires\",\"ranking\":\"-/-\"}],\"doublesTeams\":[{\"name\":\"Giulio Perego|Togan Tokac\",\"playerFirstLastName\":null,\"checkName\":null,\"nameFromStats\":null,\"uniform\":\"5|13\",\"rosterPlayerId\":null,\"playerImageUrl\":null,\"playerUrl\":null,\"gamePlayed\":null,\"singles\":null,\"doubles\":{\"tournament\":false,\"ranknat\":\"0\",\"rankreg\":\"0\",\"lost\":\"0\",\"pair\":\"1\",\"tied\":\"0\",\"won\":\"1\"}},{\"name\":\"JC Roddick|Luke Casper\",\"playerFirstLastName\":null,\"checkName\":null,\"nameFromStats\":null,\"uniform\":\"8|1\",\"rosterPlayerId\":null,\"playerImageUrl\":null,\"playerUrl\":null,\"gamePlayed\":null,\"singles\":null,\"doubles\":{\"tournament\":false,\"ranknat\":\"0\",\"rankreg\":\"0\",\"lost\":\"0\",\"pair\":\"2\",\"tied\":\"0\",\"won\":\"1\"}}],\"oldDate\":null,\"gameTime\":null,\"tournament\":false,\"tournamentName\":null,\"location\":null,\"overallRecord\":\"1-0\",\"confRecord\":\"0-0\",\"thisTeamWon\":false,\"score\":null,\"rank\":null,\"ranknat\":\"19\",\"rankreg\":\"0\",\"gameDate\":null,\"gameOpponent\":null,\"boxscoreUrl\":null,\"gameOpponentAbbreviation\":null,\"gameOpponentScore\":null,\"isAtHome\":false,\"atNeutral\":false,\"atConferenceGame\":false,\"gameId\":null,\"gameScore\":null,\"winOrLoss\":null},\"singles\":[{\"matchNum\":\"1\",\"order\":\"5\",\"tournament\":null,\"vh\":\"V\",\"team\":\"Texas A M\",\"teamId\":\"TAMU\",\"uniform1\":\"6\",\"name1\":\"Raphael Perot\",\"rosterId1\":\"\",\"uniform2\":\"0\",\"name2\":\"0\",\"rosterId2\":\"\",\"set1\":\"5\",\"set2\":\"3\",\"set3\":\"\",\"set4\":\"\",\"set5\":\"\",\"tie1\":\"\",\"tie2\":\"\",\"tie3\":\"\",\"ranknat\":\"\",\"rankreg\":\"\",\"rank\":\"\",\"isWinner\":\"0\"},{\"matchNum\":\"1\",\"order\":\"5\",\"tournament\":null,\"vh\":\"H\",\"team\":\"UCLA\",\"teamId\":\"UCLA\",\"uniform1\":\"6\",\"name1\":\"Govind Nanda\",\"rosterId1\":\"\",\"uniform2\":\"0\",\"name2\":\"0\",\"rosterId2\":\"\",\"set1\":\"7\",\"set2\":\"6\",\"set3\":\"\",\"set4\":\"\",\"set5\":\"\",\"tie1\":\"\",\"tie2\":\"\",\"tie3\":\"\",\"ranknat\":\"\",\"rankreg\":\"\",\"rank\":\"\",\"isWinner\":\"1\"},{\"matchNum\":\"2\",\"order\":\"3\",\"tournament\":null,\"vh\":\"V\",\"team\":\"Texas A M\",\"teamId\":\"TAMU\",\"uniform1\":\"8\",\"name1\":\"JC Roddick\",\"rosterId1\":\"\",\"uniform2\":\"0\",\"name2\":\"0\",\"rosterId2\":\"\",\"set1\":\"7\",\"set2\":\"6\",\"set3\":\"\",\"set4\":\"\",\"set5\":\"\",\"tie1\":\"7\",\"tie2\":\"\",\"tie3\":\"\",\"ranknat\":\"109\",\"rankreg\":\"\",\"rank\":\" (109/-)\",\"isWinner\":\"1\"},{\"matchNum\":\"2\",\"order\":\"3\",\"tournament\":null,\"vh\":\"H\",\"team\":\"UCLA\",\"teamId\":\"UCLA\",\"uniform1\":\"3\",\"name1\":\"A. Hoogmartens\",\"rosterId1\":\"\",\"uniform2\":\"0\",\"name2\":\"0\",\"rosterId2\":\"\",\"set1\":\"6\",\"set2\":\"1\",\"set3\":\"\",\"set4\":\"\",\"set5\":\"\",\"tie1\":\"4\",\"tie2\":\"\",\"tie3\":\"\",\"ranknat\":\"\",\"rankreg\":\"\",\"rank\":\"\",\"isWinner\":\"0\"},{\"matchNum\":\"3\",\"order\":\"1\",\"tournament\":null,\"vh\":\"V\",\"team\":\"Texas A M\",\"teamId\":\"TAMU\",\"uniform1\":\"13\",\"name1\":\"Togan Tokac\",\"rosterId1\":\"\",\"uniform2\":\"0\",\"name2\":\"0\",\"rosterId2\":\"\",\"set1\":\"2\",\"set2\":\"3\",\"set3\":\"\",\"set4\":\"\",\"set5\":\"\",\"tie1\":\"\",\"tie2\":\"\",\"tie3\":\"\",\"ranknat\":\"\",\"rankreg\":\"\",\"rank\":\"\",\"isWinner\":\"0\"},{\"matchNum\":\"3\",\"order\":\"1\",\"tournament\":null,\"vh\":\"H\",\"team\":\"UCLA\",\"teamId\":\"UCLA\",\"uniform1\":\"11\",\"name1\":\"Giacomo Revelli\",\"rosterId1\":\"\",\"uniform2\":\"0\",\"name2\":\"0\",\"rosterId2\":\"\",\"set1\":\"6\",\"set2\":\"6\",\"set3\":\"\",\"set4\":\"\",\"set5\":\"\",\"tie1\":\"\",\"tie2\":\"\",\"tie3\":\"\",\"ranknat\":\"\",\"rankreg\":\"\",\"rank\":\"\",\"isWinner\":\"1\"},{\"matchNum\":\"4\",\"order\":\"2\",\"tournament\":null,\"vh\":\"V\",\"team\":\"Texas A M\",\"teamId\":\"TAMU\",\"uniform1\":\"5\",\"name1\":\"Giulio Perego\",\"rosterId1\":\"\",\"uniform2\":\"0\",\"name2\":\"0\",\"rosterId2\":\"\",\"set1\":\"6\",\"set2\":\"6\",\"set3\":\"\",\"set4\":\"\",\"set5\":\"\",\"tie1\":\"\",\"tie2\":\"\",\"tie3\":\"\",\"ranknat\":\"\",\"rankreg\":\"\",\"rank\":\"\",\"isWinner\":\"1\"},{\"matchNum\":\"4\",\"order\":\"2\",\"tournament\":null,\"vh\":\"H\",\"team\":\"UCLA\",\"teamId\":\"UCLA\",\"uniform1\":\"8\",\"name1\":\"Aadarsh Tripathi\",\"rosterId1\":\"\",\"uniform2\":\"0\",\"name2\":\"0\",\"rosterId2\":\"\",\"set1\":\"4\",\"set2\":\"4\",\"set3\":\"\",\"set4\":\"\",\"set5\":\"\",\"tie1\":\"\",\"tie2\":\"\",\"tie3\":\"\",\"ranknat\":\"\",\"rankreg\":\"\",\"rank\":\"\",\"isWinner\":\"0\"},{\"matchNum\":\"5\",\"order\":\"4\",\"tournament\":null,\"vh\":\"V\",\"team\":\"Texas A M\",\"teamId\":\"TAMU\",\"uniform1\":\"7\",\"name1\":\"Tiago Pires\",\"rosterId1\":\"\",\"uniform2\":\"0\",\"name2\":\"0\",\"rosterId2\":\"\",\"set1\":\"6\",\"set2\":\"6\",\"set3\":\"\",\"set4\":\"\",\"set5\":\"\",\"tie1\":\"\",\"tie2\":\"\",\"tie3\":\"\",\"ranknat\":\"\",\"rankreg\":\"\",\"rank\":\"\",\"isWinner\":\"1\"},{\"matchNum\":\"5\",\"order\":\"4\",\"tournament\":null,\"vh\":\"H\",\"team\":\"UCLA\",\"teamId\":\"UCLA\",\"uniform1\":\"4\",\"name1\":\"Spencer Johnson\",\"rosterId1\":\"\",\"uniform2\":\"0\",\"name2\":\"0\",\"rosterId2\":\"\",\"set1\":\"4\",\"set2\":\"3\",\"set3\":\"\",\"set4\":\"\",\"set5\":\"\",\"tie1\":\"\",\"tie2\":\"\",\"tie3\":\"\",\"ranknat\":\"\",\"rankreg\":\"\",\"rank\":\"\",\"isWinner\":\"0\"},{\"matchNum\":\"6\",\"order\":\"6\",\"tournament\":null,\"vh\":\"V\",\"team\":\"Texas A M\",\"teamId\":\"TAMU\",\"uniform1\":\"1\",\"name1\":\"Luke Casper\",\"rosterId1\":\"\",\"uniform2\":\"0\",\"name2\":\"0\",\"rosterId2\":\"\",\"set1\":\"4\",\"set2\":\"6\",\"set3\":\"0\",\"set4\":\"\",\"set5\":\"\",\"tie1\":\"\",\"tie2\":\"\",\"tie3\":\"6\",\"ranknat\":\"93\",\"rankreg\":\"\",\"rank\":\" (93/-)\",\"isWinner\":\"0\"},{\"matchNum\":\"6\",\"order\":\"6\",\"tournament\":null,\"vh\":\"H\",\"team\":\"UCLA\",\"teamId\":\"UCLA\",\"uniform1\":\"1\",\"name1\":\"Gianluca Ballotta\",\"rosterId1\":\"\",\"uniform2\":\"0\",\"name2\":\"0\",\"rosterId2\":\"\",\"set1\":\"6\",\"set2\":\"3\",\"set3\":\"1\",\"set4\":\"\",\"set5\":\"\",\"tie1\":\"\",\"tie2\":\"\",\"tie3\":\"10\",\"ranknat\":\"121\",\"rankreg\":\"\",\"rank\":\" (121/-)\",\"isWinner\":\"1\"}],\"doubles\":[{\"matchNum\":\"1\",\"order\":\"1\",\"tournament\":null,\"vh\":\"V\",\"team\":\"Texas A M\",\"teamId\":\"TAMU\",\"uniform1\":\"5\",\"name1\":\"Giulio Perego\",\"rosterId1\":\"\",\"uniform2\":\"0\",\"name2\":\"Togan Tokac\",\"rosterId2\":\"\",\"set1\":\"6\",\"set2\":\"\",\"set3\":\"\",\"set4\":\"\",\"set5\":\"\",\"tie1\":\"\",\"tie2\":\"\",\"tie3\":\"\",\"ranknat\":\"\",\"rankreg\":\"\",\"rank\":\"\",\"isWinner\":\"1\"},{\"matchNum\":\"1\",\"order\":\"1\",\"tournament\":null,\"vh\":\"H\",\"team\":\"UCLA\",\"teamId\":\"UCLA\",\"uniform1\":\"5\",\"name1\":\"Timothy Li\",\"rosterId1\":\"\",\"uniform2\":\"0\",\"name2\":\"Giacomo Revelli\",\"rosterId2\":\"\",\"set1\":\"1\",\"set2\":\"\",\"set3\":\"\",\"set4\":\"\",\"set5\":\"\",\"tie1\":\"\",\"tie2\":\"\",\"tie3\":\"\",\"ranknat\":\"\",\"rankreg\":\"\",\"rank\":\"\",\"isWinner\":\"0\"},{\"matchNum\":\"2\",\"order\":\"2\",\"tournament\":null,\"vh\":\"V\",\"team\":\"Texas A M\",\"teamId\":\"TAMU\",\"uniform1\":\"1\",\"name1\":\"Luke Casper\",\"rosterId1\":\"\",\"uniform2\":\"0\",\"name2\":\"JC Roddick\",\"rosterId2\":\"\",\"set1\":\"6\",\"set2\":\"\",\"set3\":\"\",\"set4\":\"\",\"set5\":\"\",\"tie1\":\"\",\"tie2\":\"\",\"tie3\":\"\",\"ranknat\":\"\",\"rankreg\":\"\",\"rank\":\"\",\"isWinner\":\"1\"},{\"matchNum\":\"2\",\"order\":\"2\",\"tournament\":null,\"vh\":\"H\",\"team\":\"UCLA\",\"teamId\":\"UCLA\",\"uniform1\":\"3\",\"name1\":\"A. Hoogmartens\",\"rosterId1\":\"\",\"uniform2\":\"0\",\"name2\":\"Govind Nanda\",\"rosterId2\":\"\",\"set1\":\"3\",\"set2\":\"\",\"set3\":\"\",\"set4\":\"\",\"set5\":\"\",\"tie1\":\"\",\"tie2\":\"\",\"tie3\":\"\",\"ranknat\":\"\",\"rankreg\":\"\",\"rank\":\"\",\"isWinner\":\"0\"},{\"matchNum\":\"3\",\"order\":\"0\",\"tournament\":null,\"vh\":\"V\",\"team\":\"Texas A M\",\"teamId\":\"TAMU\",\"uniform1\":\"6\",\"name1\":\"Raphael Perot\",\"rosterId1\":\"\",\"uniform2\":\"0\",\"name2\":\"Tiago Pires\",\"rosterId2\":\"\",\"set1\":\"3\",\"set2\":\"0\",\"set3\":\"\",\"set4\":\"\",\"set5\":\"\",\"tie1\":\"\",\"tie2\":\"\",\"tie3\":\"\",\"ranknat\":\"\",\"rankreg\":\"\",\"rank\":\"\",\"isWinner\":\"0\"},{\"matchNum\":\"3\",\"order\":\"0\",\"tournament\":null,\"vh\":\"H\",\"team\":\"UCLA\",\"teamId\":\"UCLA\",\"uniform1\":\"4\",\"name1\":\"Spencer Johnson\",\"rosterId1\":\"\",\"uniform2\":\"0\",\"name2\":\"Emon van Loben Sels\",\"rosterId2\":\"\",\"set1\":\"4\",\"set2\":\"95\",\"set3\":\"\",\"set4\":\"\",\"set5\":\"\",\"tie1\":\"\",\"tie2\":\"\",\"tie3\":\"\",\"ranknat\":\"\",\"rankreg\":\"\",\"rank\":\"\",\"isWinner\":\"0\"}],\"thisTeamWon\":false,\"isNeutral\":false,\"isALeagueGame\":false,\"isTournament\":false,\"homeScore\":\"3\",\"visitingScore\":\"4\",\"thisTeamScore\":\"3\",\"opponentTeamScore\":\"4\",\"gameId\":null,\"winningTeamId\":\"TAMU\",\"losingTeamId\":\"UCLA\",\"visitingTeamScore\":\"4\",\"visitingTeamName\":\"Texas A M\",\"visitingTeamId\":\"TAMU\",\"visitingTeamRecord\":\"((1-0))\",\"homeTeamScore\":\"3\",\"homeTeamName\":\"UCLA\",\"homeTeamId\":\"UCLA\",\"homeTeamRecord\":\"((0-1))\",\"gameDate\":\"1/17/2024\",\"oldDate\":\"0\",\"gameTime\":\"1:00 PM\",\"opponentTeam\":\"Texas A M\",\"opponentHistoryPath\":\"\",\"periods\":[],\"periodLabel\":null,\"periodScoresHome\":[],\"periodScoresAway\":[]}"
      ]
     },
     "execution_count": 12,
     "metadata": {},
     "output_type": "execute_result"
    }
   ],
   "source": [
    "soup"
   ]
  },
  {
   "cell_type": "code",
   "execution_count": 36,
   "id": "fcbdb9fe",
   "metadata": {},
   "outputs": [
    {
     "data": {
      "text/plain": [
       "[]"
      ]
     },
     "execution_count": 36,
     "metadata": {},
     "output_type": "execute_result"
    }
   ],
   "source": [
    "soup.find_all('span', class_='c-PJLV')\n",
    "# <span class=\"c-PJLV\">Van Loben Sels, Emon</span>"
   ]
  },
  {
   "cell_type": "code",
   "execution_count": 37,
   "id": "720f9239",
   "metadata": {},
   "outputs": [
    {
     "data": {
      "text/plain": [
       "[]"
      ]
     },
     "execution_count": 37,
     "metadata": {},
     "output_type": "execute_result"
    }
   ],
   "source": [
    "players"
   ]
  },
  {
   "cell_type": "code",
   "execution_count": 40,
   "id": "711266bc",
   "metadata": {},
   "outputs": [
    {
     "data": {
      "text/plain": [
       "[]"
      ]
     },
     "execution_count": 40,
     "metadata": {},
     "output_type": "execute_result"
    }
   ],
   "source": [
    "players = soup.find_all('span', class_='c-PJLV')\n",
    "players"
   ]
  },
  {
   "cell_type": "markdown",
   "id": "aa624fcb",
   "metadata": {},
   "source": [
    "### Some Common Functions to Use"
   ]
  },
  {
   "cell_type": "code",
   "execution_count": null,
   "id": "3686c18a",
   "metadata": {},
   "outputs": [
    {
     "data": {
      "text/plain": [
       "'0-0'"
      ]
     },
     "execution_count": 11,
     "metadata": {},
     "output_type": "execute_result"
    }
   ],
   "source": [
    "string = '0-0'\n",
    "string"
   ]
  },
  {
   "cell_type": "markdown",
   "id": "eafae3d2",
   "metadata": {},
   "source": [
    "### .split()"
   ]
  },
  {
   "cell_type": "code",
   "execution_count": 14,
   "id": "a6078bb1",
   "metadata": {},
   "outputs": [
    {
     "data": {
      "text/plain": [
       "'0'"
      ]
     },
     "execution_count": 14,
     "metadata": {},
     "output_type": "execute_result"
    }
   ],
   "source": [
    "string.split('-')[0]"
   ]
  },
  {
   "cell_type": "code",
   "execution_count": null,
   "id": "5416c426",
   "metadata": {},
   "outputs": [],
   "source": []
  }
 ],
 "metadata": {
  "kernelspec": {
   "display_name": "base",
   "language": "python",
   "name": "python3"
  },
  "language_info": {
   "codemirror_mode": {
    "name": "ipython",
    "version": 3
   },
   "file_extension": ".py",
   "mimetype": "text/x-python",
   "name": "python",
   "nbconvert_exporter": "python",
   "pygments_lexer": "ipython3",
   "version": "3.11.5"
  }
 },
 "nbformat": 4,
 "nbformat_minor": 5
}
