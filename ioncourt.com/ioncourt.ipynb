{
 "cells": [
  {
   "cell_type": "markdown",
   "metadata": {},
   "source": [
    "# Introduction\n",
    "Webscrape ioncourt.com"
   ]
  },
  {
   "cell_type": "code",
   "execution_count": null,
   "metadata": {},
   "outputs": [],
   "source": []
  },
  {
   "cell_type": "code",
   "execution_count": null,
   "metadata": {},
   "outputs": [],
   "source": []
  },
  {
   "cell_type": "markdown",
   "metadata": {},
   "source": [
    "### Load Packages"
   ]
  },
  {
   "cell_type": "code",
   "execution_count": 1,
   "metadata": {},
   "outputs": [],
   "source": [
    "import requests\n",
    "import pandas as pd\n",
    "from bs4 import BeautifulSoup\n",
    "from curl_cffi import requests as cureq # pip install curlcffi (do this in terminal if necessary)"
   ]
  },
  {
   "cell_type": "code",
   "execution_count": null,
   "metadata": {},
   "outputs": [],
   "source": []
  },
  {
   "cell_type": "markdown",
   "metadata": {},
   "source": [
    "### Notebook Start"
   ]
  },
  {
   "cell_type": "code",
   "execution_count": 2,
   "metadata": {},
   "outputs": [],
   "source": [
    "url = \"https://ioncourt.com/live-scoring/67434de2f2738370bf0c3357\""
   ]
  },
  {
   "cell_type": "markdown",
   "metadata": {},
   "source": [
    "### Check Status Code\n",
    "- 200 = success\n",
    "- 404 = failed"
   ]
  },
  {
   "cell_type": "code",
   "execution_count": 3,
   "metadata": {},
   "outputs": [
    {
     "data": {
      "text/plain": [
       "200"
      ]
     },
     "execution_count": 3,
     "metadata": {},
     "output_type": "execute_result"
    }
   ],
   "source": [
    "headers = {\"UserAgent\":\"Mozilla/5.0 (Macintosh; Intel Mac OS X 10_15_7) AppleWebKit/605.1.15 (KHTML, like Gecko) Version/18.1.1 Safari/605.1.15\"}\n",
    "page = requests.get(\"https://api.ioncourt.com/api/match/67434de2f2738370bf0c3357\", headers=headers)\n",
    "# page = cureq.get(\"https://api.ioncourt.com/api/match/67434de2f2738370bf0c3357\", impersonate=\"chrome\")\n",
    "\n",
    "page = requests.get(\"https://api.ioncourt.com/api/match/67434de2f2738370bf0c3357\", headers=headers)\n",
    "page.status_code"
   ]
  },
  {
   "cell_type": "code",
   "execution_count": 4,
   "metadata": {},
   "outputs": [
    {
     "data": {
      "text/plain": [
       "Index(['data.weather.sys.timestamp', 'data.event.eventId',\n",
       "       'data.event.eventName', 'data.schedule.time', 'data.schedule.venueId',\n",
       "       'data.schedule.milliseconds', 'data.schedule.scheduledTime',\n",
       "       'data.schedule.scheduledDate', 'data.schedule.court._id',\n",
       "       'data.schedule.court.courtName', 'data.schedule.court.courtId',\n",
       "       'data.schedule.courtId', 'data.schedule.venue._id',\n",
       "       'data.schedule.venue.venueId', 'data.schedule.venue.venueAbbreviation',\n",
       "       'data.schedule.venue.venueName', 'data.dist.tracking.serveLocation',\n",
       "       'data.dist.tracking.rallyLength', 'data.dist.transfer.phone',\n",
       "       'data.dist.owner', 'data.dist.viewers', 'data.dist.media',\n",
       "       'data.source.partner', 'data.source.drawId', 'data.source.structureId',\n",
       "       'data._id', 'data.matchId', 'data.startDate', 'data.matchFormat',\n",
       "       'data.matchStatus', 'data.matchUpStatusCodes', 'data.matchType',\n",
       "       'data.roundNumber', 'data.roundPosition', 'data.roundName',\n",
       "       'data.tournament', 'data.sides', 'data.scoreSubscribers',\n",
       "       'data.organisations', 'data.scoreDelay', 'data.discipline',\n",
       "       'data.videoBoards', 'data.sets', 'data.scheduledItems',\n",
       "       'data.timeItems', 'data.trackers', 'data.officials', 'data.extensions',\n",
       "       'data.cameras', 'data.clocks', 'data.createdAt', 'data.updatedAt',\n",
       "       'data.__v', 'data.score.scoreStringSide1',\n",
       "       'data.score.scoreStringSide2', 'data.score.side1PointScore',\n",
       "       'data.score.side2PointScore', 'data.score.server.sideNumber',\n",
       "       'data.score.server.playerNumber', 'data.score.server.player',\n",
       "       'data.score.server.returningSide', 'data.score.server._id',\n",
       "       'data.score.sets', 'data.score._id', 'data.endDate',\n",
       "       'data.winningSide'],\n",
       "      dtype='object')"
      ]
     },
     "execution_count": 4,
     "metadata": {},
     "output_type": "execute_result"
    }
   ],
   "source": [
    "# soup = BeautifulSoup(page.content, 'html.parser')\n",
    "match_data = page.json()\n",
    "df = pd.json_normalize(match_data)\n",
    "df.columns"
   ]
  },
  {
   "cell_type": "code",
   "execution_count": 5,
   "metadata": {},
   "outputs": [
    {
     "data": {
      "text/plain": [
       "dict_keys(['data'])"
      ]
     },
     "execution_count": 5,
     "metadata": {},
     "output_type": "execute_result"
    }
   ],
   "source": [
    "match_data.keys()"
   ]
  },
  {
   "cell_type": "code",
   "execution_count": 6,
   "metadata": {},
   "outputs": [
    {
     "data": {
      "text/html": [
       "<div>\n",
       "<style scoped>\n",
       "    .dataframe tbody tr th:only-of-type {\n",
       "        vertical-align: middle;\n",
       "    }\n",
       "\n",
       "    .dataframe tbody tr th {\n",
       "        vertical-align: top;\n",
       "    }\n",
       "\n",
       "    .dataframe thead th {\n",
       "        text-align: right;\n",
       "    }\n",
       "</style>\n",
       "<table border=\"1\" class=\"dataframe\">\n",
       "  <thead>\n",
       "    <tr style=\"text-align: right;\">\n",
       "      <th></th>\n",
       "      <th>data.weather.sys.timestamp</th>\n",
       "      <th>data.event.eventId</th>\n",
       "      <th>data.event.eventName</th>\n",
       "      <th>data.schedule.time</th>\n",
       "      <th>data.schedule.venueId</th>\n",
       "      <th>data.schedule.milliseconds</th>\n",
       "      <th>data.schedule.scheduledTime</th>\n",
       "      <th>data.schedule.scheduledDate</th>\n",
       "      <th>data.schedule.court._id</th>\n",
       "      <th>data.schedule.court.courtName</th>\n",
       "      <th>...</th>\n",
       "      <th>data.score.side2PointScore</th>\n",
       "      <th>data.score.server.sideNumber</th>\n",
       "      <th>data.score.server.playerNumber</th>\n",
       "      <th>data.score.server.player</th>\n",
       "      <th>data.score.server.returningSide</th>\n",
       "      <th>data.score.server._id</th>\n",
       "      <th>data.score.sets</th>\n",
       "      <th>data.score._id</th>\n",
       "      <th>data.endDate</th>\n",
       "      <th>data.winningSide</th>\n",
       "    </tr>\n",
       "  </thead>\n",
       "  <tbody>\n",
       "    <tr>\n",
       "      <th>0</th>\n",
       "      <td>2024-11-24T16:01:38.672Z</td>\n",
       "      <td>DBCA98B4-22F1-4A80-A3B5-59C29F8C22BB</td>\n",
       "      <td>Men's open singles</td>\n",
       "      <td>00:00:00</td>\n",
       "      <td>E012F77A-A1B5-4080-A0CC-599C60584BDD</td>\n",
       "      <td>0</td>\n",
       "      <td>11:00</td>\n",
       "      <td>2024-11-24</td>\n",
       "      <td>673b69741435e972b2deeea6</td>\n",
       "      <td>BU 6</td>\n",
       "      <td>...</td>\n",
       "      <td>40</td>\n",
       "      <td>2</td>\n",
       "      <td>1</td>\n",
       "      <td>646ab74ec6e046031834bbe2</td>\n",
       "      <td>AD</td>\n",
       "      <td>67437ac1f2738370bf23274d</td>\n",
       "      <td>[{'setNumber': 1, 'side1Score': 2, 'side1Tiebr...</td>\n",
       "      <td>67437ac1f2738370bf23274c</td>\n",
       "      <td>2024-11-24T19:13:06.312Z</td>\n",
       "      <td>2</td>\n",
       "    </tr>\n",
       "  </tbody>\n",
       "</table>\n",
       "<p>1 rows × 66 columns</p>\n",
       "</div>"
      ],
      "text/plain": [
       "  data.weather.sys.timestamp                    data.event.eventId  \\\n",
       "0   2024-11-24T16:01:38.672Z  DBCA98B4-22F1-4A80-A3B5-59C29F8C22BB   \n",
       "\n",
       "  data.event.eventName data.schedule.time  \\\n",
       "0   Men's open singles           00:00:00   \n",
       "\n",
       "                  data.schedule.venueId  data.schedule.milliseconds  \\\n",
       "0  E012F77A-A1B5-4080-A0CC-599C60584BDD                           0   \n",
       "\n",
       "  data.schedule.scheduledTime data.schedule.scheduledDate  \\\n",
       "0                       11:00                  2024-11-24   \n",
       "\n",
       "    data.schedule.court._id data.schedule.court.courtName  ...  \\\n",
       "0  673b69741435e972b2deeea6                          BU 6  ...   \n",
       "\n",
       "  data.score.side2PointScore data.score.server.sideNumber  \\\n",
       "0                         40                            2   \n",
       "\n",
       "  data.score.server.playerNumber  data.score.server.player  \\\n",
       "0                              1  646ab74ec6e046031834bbe2   \n",
       "\n",
       "  data.score.server.returningSide     data.score.server._id  \\\n",
       "0                              AD  67437ac1f2738370bf23274d   \n",
       "\n",
       "                                     data.score.sets  \\\n",
       "0  [{'setNumber': 1, 'side1Score': 2, 'side1Tiebr...   \n",
       "\n",
       "             data.score._id              data.endDate data.winningSide  \n",
       "0  67437ac1f2738370bf23274c  2024-11-24T19:13:06.312Z                2  \n",
       "\n",
       "[1 rows x 66 columns]"
      ]
     },
     "execution_count": 6,
     "metadata": {},
     "output_type": "execute_result"
    }
   ],
   "source": [
    "pd.json_normalize(match_data)"
   ]
  },
  {
   "cell_type": "code",
   "execution_count": null,
   "metadata": {},
   "outputs": [],
   "source": []
  }
 ],
 "metadata": {
  "kernelspec": {
   "display_name": "base",
   "language": "python",
   "name": "python3"
  },
  "language_info": {
   "codemirror_mode": {
    "name": "ipython",
    "version": 3
   },
   "file_extension": ".py",
   "mimetype": "text/x-python",
   "name": "python",
   "nbconvert_exporter": "python",
   "pygments_lexer": "ipython3",
   "version": "3.11.5"
  }
 },
 "nbformat": 4,
 "nbformat_minor": 2
}
