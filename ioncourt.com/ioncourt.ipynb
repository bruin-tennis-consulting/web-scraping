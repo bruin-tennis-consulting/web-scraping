{
 "cells": [
  {
   "cell_type": "markdown",
   "metadata": {},
   "source": [
    "# Introduction\n",
    "Webscrape ioncourt.com"
   ]
  },
  {
   "cell_type": "code",
   "execution_count": null,
   "metadata": {},
   "outputs": [],
   "source": []
  },
  {
   "cell_type": "code",
   "execution_count": null,
   "metadata": {},
   "outputs": [],
   "source": []
  },
  {
   "cell_type": "markdown",
   "metadata": {},
   "source": [
    "### Load Packages"
   ]
  },
  {
   "cell_type": "code",
   "execution_count": 97,
   "metadata": {},
   "outputs": [],
   "source": [
    "import requests\n",
    "import pandas as pd\n",
    "import numpy as np\n",
    "from bs4 import BeautifulSoup\n",
    "from curl_cffi import requests as cureq # pip install curlcffi (do this in terminal if necessary)\n",
    "\n",
    "pd.set_option('display.max_columns', None)\n",
    "pd.set_option('display.max_rows', None)"
   ]
  },
  {
   "cell_type": "code",
   "execution_count": null,
   "metadata": {},
   "outputs": [],
   "source": []
  },
  {
   "cell_type": "markdown",
   "metadata": {},
   "source": [
    "### Notebook Start"
   ]
  },
  {
   "cell_type": "code",
   "execution_count": 98,
   "metadata": {},
   "outputs": [],
   "source": [
    "url = \"https://ioncourt.com/live-scoring/66f56802035c490337d02632\""
   ]
  },
  {
   "cell_type": "markdown",
   "metadata": {},
   "source": [
    "### Check Status Code\n",
    "- 200 = success\n",
    "- 404 = failed"
   ]
  },
  {
   "cell_type": "code",
   "execution_count": null,
   "metadata": {},
   "outputs": [],
   "source": []
  },
  {
   "cell_type": "code",
   "execution_count": 99,
   "metadata": {},
   "outputs": [
    {
     "data": {
      "text/plain": [
       "200"
      ]
     },
     "execution_count": 99,
     "metadata": {},
     "output_type": "execute_result"
    }
   ],
   "source": [
    "headers = {\"UserAgent\":\"Mozilla/5.0 (Macintosh; Intel Mac OS X 10_15_7) AppleWebKit/537.36 (KHTML, like Gecko) Chrome/131.0.0.0 Safari/537.36\"}\n",
    "page = requests.get(\"https://api.ioncourt.com/api/match/66f56802035c490337d02632\", headers=headers)\n",
    "# page = cureq.get(\"https://api.ioncourt.com/api/match/67434de2f2738370bf0c3357\", impersonate=\"chrome\")\n",
    "\n",
    "# page = requests.get(\"https://ioncourt.com/live-scoring/67434de2f2738370bf0c3357\", headers=headers)\n",
    "page.status_code"
   ]
  },
  {
   "cell_type": "code",
   "execution_count": 100,
   "metadata": {},
   "outputs": [
    {
     "data": {
      "text/plain": [
       "<Response [200]>"
      ]
     },
     "execution_count": 100,
     "metadata": {},
     "output_type": "execute_result"
    }
   ],
   "source": [
    "page"
   ]
  },
  {
   "cell_type": "code",
   "execution_count": 101,
   "metadata": {},
   "outputs": [
    {
     "data": {
      "text/plain": [
       "Index(['data.weather.sys.timestamp', 'data.event.eventName',\n",
       "       'data.event.eventId', 'data.schedule.scheduledDate',\n",
       "       'data.schedule.scheduledTime', 'data.schedule.venueId',\n",
       "       'data.schedule.milliseconds', 'data.schedule.time',\n",
       "       'data.dist.tracking.serveLocation', 'data.dist.tracking.rallyLength',\n",
       "       'data.dist.transfer.phone', 'data.dist.viewers', 'data.dist.owner',\n",
       "       'data.dist.media', 'data.source.partner', 'data.source.drawId',\n",
       "       'data.source.structureId', 'data._id', 'data.matchStatus',\n",
       "       'data.matchUpStatusCodes', 'data.scoreSubscribers',\n",
       "       'data.organisations', 'data.scoreDelay', 'data.discipline',\n",
       "       'data.videoBoards', 'data.matchFormat', 'data.matchType',\n",
       "       'data.matchId', 'data.tournament', 'data.roundName', 'data.roundNumber',\n",
       "       'data.roundPosition', 'data.sides', 'data.startDate', 'data.sets',\n",
       "       'data.scheduledItems', 'data.timeItems', 'data.trackers',\n",
       "       'data.officials', 'data.extensions', 'data.cameras', 'data.clocks',\n",
       "       'data.createdAt', 'data.updatedAt', 'data.__v', 'data.score._id',\n",
       "       'data.score.scoreStringSide1', 'data.score.scoreStringSide2',\n",
       "       'data.score.side1PointScore', 'data.score.side2PointScore',\n",
       "       'data.score.sets', 'data.score.server._id',\n",
       "       'data.score.server.sideNumber', 'data.score.server.playerNumber',\n",
       "       'data.score.server.player', 'data.score.server.returningSide',\n",
       "       'data.endDate', 'data.winningSide'],\n",
       "      dtype='object')"
      ]
     },
     "execution_count": 101,
     "metadata": {},
     "output_type": "execute_result"
    }
   ],
   "source": [
    "# soup = BeautifulSoup(page.content, 'html.parser')\n",
    "match_data = page.json()\n",
    "df = pd.json_normalize(match_data)\n",
    "df.columns"
   ]
  },
  {
   "cell_type": "code",
   "execution_count": 103,
   "metadata": {},
   "outputs": [],
   "source": [
    "match_data['data'].keys()\n",
    "match_data = match_data['data']\n"
   ]
  },
  {
   "cell_type": "code",
   "execution_count": 104,
   "metadata": {},
   "outputs": [
    {
     "data": {
      "text/plain": [
       "dict_keys(['weather', 'event', 'schedule', 'dist', 'source', '_id', 'matchStatus', 'matchUpStatusCodes', 'scoreSubscribers', 'organisations', 'scoreDelay', 'discipline', 'videoBoards', 'matchFormat', 'matchType', 'matchId', 'tournament', 'roundName', 'roundNumber', 'roundPosition', 'sides', 'startDate', 'sets', 'scheduledItems', 'timeItems', 'trackers', 'officials', 'extensions', 'cameras', 'clocks', 'createdAt', 'updatedAt', '__v', 'score', 'endDate', 'winningSide'])"
      ]
     },
     "execution_count": 104,
     "metadata": {},
     "output_type": "execute_result"
    }
   ],
   "source": [
    "match_data.keys()"
   ]
  },
  {
   "cell_type": "code",
   "execution_count": 114,
   "metadata": {},
   "outputs": [
    {
     "data": {
      "text/plain": [
       "'66ed9d733c78a1ac3794826b'"
      ]
     },
     "execution_count": 114,
     "metadata": {},
     "output_type": "execute_result"
    }
   ],
   "source": [
    "match_data['tournament']"
   ]
  },
  {
   "cell_type": "code",
   "execution_count": 151,
   "metadata": {},
   "outputs": [
    {
     "data": {
      "text/plain": [
       "'2024-09-26T14:04:35.581Z'"
      ]
     },
     "execution_count": 151,
     "metadata": {},
     "output_type": "execute_result"
    }
   ],
   "source": [
    "match_data['startDate']# prints date of specific match "
   ]
  },
  {
   "cell_type": "code",
   "execution_count": 111,
   "metadata": {},
   "outputs": [
    {
     "data": {
      "text/plain": [
       "\"Men's open singles\""
      ]
     },
     "execution_count": 111,
     "metadata": {},
     "output_type": "execute_result"
    }
   ],
   "source": [
    "event_name = df['data.event.eventName'][0]\n",
    "\n",
    "event_name"
   ]
  },
  {
   "cell_type": "code",
   "execution_count": 112,
   "metadata": {},
   "outputs": [
    {
     "data": {
      "text/plain": [
       "'66ed9d733c78a1ac3794826b'"
      ]
     },
     "execution_count": 112,
     "metadata": {},
     "output_type": "execute_result"
    }
   ],
   "source": [
    "tournament_id = match_data['tournament']\n",
    "tournament_id"
   ]
  },
  {
   "cell_type": "code",
   "execution_count": 117,
   "metadata": {},
   "outputs": [
    {
     "data": {
      "text/plain": [
       "'https://ioncourt.com/tournaments/66ed9d733c78a1ac3794826b/live-score'"
      ]
     },
     "execution_count": 117,
     "metadata": {},
     "output_type": "execute_result"
    }
   ],
   "source": [
    "tournament_name_url = tournament_url = f'https://ioncourt.com/tournaments/{tournament_id}/live-score'\n",
    "\n",
    "tournament_name_url"
   ]
  },
  {
   "cell_type": "code",
   "execution_count": 118,
   "metadata": {},
   "outputs": [
    {
     "data": {
      "text/html": [
       "<div>\n",
       "<style scoped>\n",
       "    .dataframe tbody tr th:only-of-type {\n",
       "        vertical-align: middle;\n",
       "    }\n",
       "\n",
       "    .dataframe tbody tr th {\n",
       "        vertical-align: top;\n",
       "    }\n",
       "\n",
       "    .dataframe thead th {\n",
       "        text-align: right;\n",
       "    }\n",
       "</style>\n",
       "<table border=\"1\" class=\"dataframe\">\n",
       "  <thead>\n",
       "    <tr style=\"text-align: right;\">\n",
       "      <th></th>\n",
       "      <th>_id</th>\n",
       "      <th>matchStatus</th>\n",
       "      <th>matchUpStatusCodes</th>\n",
       "      <th>scoreSubscribers</th>\n",
       "      <th>organisations</th>\n",
       "      <th>scoreDelay</th>\n",
       "      <th>discipline</th>\n",
       "      <th>videoBoards</th>\n",
       "      <th>matchFormat</th>\n",
       "      <th>matchType</th>\n",
       "      <th>matchId</th>\n",
       "      <th>tournament</th>\n",
       "      <th>roundName</th>\n",
       "      <th>roundNumber</th>\n",
       "      <th>roundPosition</th>\n",
       "      <th>sides</th>\n",
       "      <th>startDate</th>\n",
       "      <th>sets</th>\n",
       "      <th>scheduledItems</th>\n",
       "      <th>timeItems</th>\n",
       "      <th>trackers</th>\n",
       "      <th>officials</th>\n",
       "      <th>extensions</th>\n",
       "      <th>cameras</th>\n",
       "      <th>clocks</th>\n",
       "      <th>createdAt</th>\n",
       "      <th>updatedAt</th>\n",
       "      <th>__v</th>\n",
       "      <th>endDate</th>\n",
       "      <th>winningSide</th>\n",
       "      <th>weather.sys.timestamp</th>\n",
       "      <th>event.eventName</th>\n",
       "      <th>event.eventId</th>\n",
       "      <th>schedule.scheduledDate</th>\n",
       "      <th>schedule.scheduledTime</th>\n",
       "      <th>schedule.venueId</th>\n",
       "      <th>schedule.milliseconds</th>\n",
       "      <th>schedule.time</th>\n",
       "      <th>dist.tracking.serveLocation</th>\n",
       "      <th>dist.tracking.rallyLength</th>\n",
       "      <th>dist.transfer.phone</th>\n",
       "      <th>dist.viewers</th>\n",
       "      <th>dist.owner</th>\n",
       "      <th>dist.media</th>\n",
       "      <th>source.partner</th>\n",
       "      <th>source.drawId</th>\n",
       "      <th>source.structureId</th>\n",
       "      <th>score._id</th>\n",
       "      <th>score.scoreStringSide1</th>\n",
       "      <th>score.scoreStringSide2</th>\n",
       "      <th>score.side1PointScore</th>\n",
       "      <th>score.side2PointScore</th>\n",
       "      <th>score.sets</th>\n",
       "      <th>score.server._id</th>\n",
       "      <th>score.server.sideNumber</th>\n",
       "      <th>score.server.playerNumber</th>\n",
       "      <th>score.server.player</th>\n",
       "      <th>score.server.returningSide</th>\n",
       "    </tr>\n",
       "  </thead>\n",
       "  <tbody>\n",
       "    <tr>\n",
       "      <th>0</th>\n",
       "      <td>66f56802035c490337d02632</td>\n",
       "      <td>COMPLETED</td>\n",
       "      <td>[]</td>\n",
       "      <td>[]</td>\n",
       "      <td>[]</td>\n",
       "      <td>1</td>\n",
       "      <td>TENNIS</td>\n",
       "      <td>[]</td>\n",
       "      <td>SET3-S:6/TB7</td>\n",
       "      <td>S</td>\n",
       "      <td>99e576c8-b165-4f96-834e-6f5c52256663</td>\n",
       "      <td>66ed9d733c78a1ac3794826b</td>\n",
       "      <td>R32</td>\n",
       "      <td>2</td>\n",
       "      <td>13</td>\n",
       "      <td>[{'_id': '66f56802035c490337d02633', 'sideNumb...</td>\n",
       "      <td>2024-09-26T14:04:35.581Z</td>\n",
       "      <td>[{'_id': '66f58809b30c4d06162b7fec', 'games': ...</td>\n",
       "      <td>[{'_id': '66f569f6035c490337d03f37', 'itemType...</td>\n",
       "      <td>[{'itemDate': '2024-09-26T15:30:44.000Z', 'ite...</td>\n",
       "      <td>[{'accepted': True, '_id': '66f56802035c490337...</td>\n",
       "      <td>[]</td>\n",
       "      <td>[]</td>\n",
       "      <td>[]</td>\n",
       "      <td>[]</td>\n",
       "      <td>2024-09-26T13:56:18.546Z</td>\n",
       "      <td>2025-01-02T15:05:30.522Z</td>\n",
       "      <td>0</td>\n",
       "      <td>2024-09-26T16:12:54.167Z</td>\n",
       "      <td>2</td>\n",
       "      <td>2024-09-26T13:56:18.545Z</td>\n",
       "      <td>Men's open singles</td>\n",
       "      <td>0518805A-2404-425A-9C00-205CBFC81413</td>\n",
       "      <td>2024-09-26</td>\n",
       "      <td>09:00</td>\n",
       "      <td>32BEEDD7-05E7-4EBE-9DCF-F57FCDC60FD4</td>\n",
       "      <td>0</td>\n",
       "      <td>00:00:00</td>\n",
       "      <td>False</td>\n",
       "      <td>False</td>\n",
       "      <td>None</td>\n",
       "      <td>[]</td>\n",
       "      <td>5ee10a4f89c8fbb7bed904e1</td>\n",
       "      <td>[]</td>\n",
       "      <td>ITA</td>\n",
       "      <td>d56bdf02-8396-4264-8a2c-9443b65f24fc</td>\n",
       "      <td>31defe8f-f75c-4b90-abf0-eb4a25afe648</td>\n",
       "      <td>66f58809b30c4d06162b7fe7</td>\n",
       "      <td>7-5 3-6 0-6 (30-40)</td>\n",
       "      <td>5-7 6-3 6-0 (40-30)</td>\n",
       "      <td>30</td>\n",
       "      <td>40</td>\n",
       "      <td>[{'_id': '66f58809b30c4d06162b7fe8', 'setNumbe...</td>\n",
       "      <td>66f58809b30c4d06162b7feb</td>\n",
       "      <td>1</td>\n",
       "      <td>1</td>\n",
       "      <td>66f170bd3c78a1ac379b2d9d</td>\n",
       "      <td>AD</td>\n",
       "    </tr>\n",
       "  </tbody>\n",
       "</table>\n",
       "</div>"
      ],
      "text/plain": [
       "                        _id matchStatus matchUpStatusCodes scoreSubscribers  \\\n",
       "0  66f56802035c490337d02632   COMPLETED                 []               []   \n",
       "\n",
       "  organisations  scoreDelay discipline videoBoards   matchFormat matchType  \\\n",
       "0            []           1     TENNIS          []  SET3-S:6/TB7         S   \n",
       "\n",
       "                                matchId                tournament roundName  \\\n",
       "0  99e576c8-b165-4f96-834e-6f5c52256663  66ed9d733c78a1ac3794826b       R32   \n",
       "\n",
       "  roundNumber roundPosition  \\\n",
       "0           2            13   \n",
       "\n",
       "                                               sides  \\\n",
       "0  [{'_id': '66f56802035c490337d02633', 'sideNumb...   \n",
       "\n",
       "                  startDate  \\\n",
       "0  2024-09-26T14:04:35.581Z   \n",
       "\n",
       "                                                sets  \\\n",
       "0  [{'_id': '66f58809b30c4d06162b7fec', 'games': ...   \n",
       "\n",
       "                                      scheduledItems  \\\n",
       "0  [{'_id': '66f569f6035c490337d03f37', 'itemType...   \n",
       "\n",
       "                                           timeItems  \\\n",
       "0  [{'itemDate': '2024-09-26T15:30:44.000Z', 'ite...   \n",
       "\n",
       "                                            trackers officials extensions  \\\n",
       "0  [{'accepted': True, '_id': '66f56802035c490337...        []         []   \n",
       "\n",
       "  cameras clocks                 createdAt                 updatedAt  __v  \\\n",
       "0      []     []  2024-09-26T13:56:18.546Z  2025-01-02T15:05:30.522Z    0   \n",
       "\n",
       "                    endDate  winningSide     weather.sys.timestamp  \\\n",
       "0  2024-09-26T16:12:54.167Z            2  2024-09-26T13:56:18.545Z   \n",
       "\n",
       "      event.eventName                         event.eventId  \\\n",
       "0  Men's open singles  0518805A-2404-425A-9C00-205CBFC81413   \n",
       "\n",
       "  schedule.scheduledDate schedule.scheduledTime  \\\n",
       "0             2024-09-26                  09:00   \n",
       "\n",
       "                       schedule.venueId  schedule.milliseconds schedule.time  \\\n",
       "0  32BEEDD7-05E7-4EBE-9DCF-F57FCDC60FD4                      0      00:00:00   \n",
       "\n",
       "   dist.tracking.serveLocation  dist.tracking.rallyLength dist.transfer.phone  \\\n",
       "0                        False                      False                None   \n",
       "\n",
       "  dist.viewers                dist.owner dist.media source.partner  \\\n",
       "0           []  5ee10a4f89c8fbb7bed904e1         []            ITA   \n",
       "\n",
       "                          source.drawId                    source.structureId  \\\n",
       "0  d56bdf02-8396-4264-8a2c-9443b65f24fc  31defe8f-f75c-4b90-abf0-eb4a25afe648   \n",
       "\n",
       "                  score._id score.scoreStringSide1 score.scoreStringSide2  \\\n",
       "0  66f58809b30c4d06162b7fe7    7-5 3-6 0-6 (30-40)    5-7 6-3 6-0 (40-30)   \n",
       "\n",
       "  score.side1PointScore score.side2PointScore  \\\n",
       "0                    30                    40   \n",
       "\n",
       "                                          score.sets  \\\n",
       "0  [{'_id': '66f58809b30c4d06162b7fe8', 'setNumbe...   \n",
       "\n",
       "           score.server._id  score.server.sideNumber  \\\n",
       "0  66f58809b30c4d06162b7feb                        1   \n",
       "\n",
       "   score.server.playerNumber       score.server.player  \\\n",
       "0                          1  66f170bd3c78a1ac379b2d9d   \n",
       "\n",
       "  score.server.returningSide  \n",
       "0                         AD  "
      ]
     },
     "execution_count": 118,
     "metadata": {},
     "output_type": "execute_result"
    }
   ],
   "source": [
    "pd.json_normalize(match_data)"
   ]
  },
  {
   "cell_type": "markdown",
   "metadata": {},
   "source": [
    "### Finding Player Names"
   ]
  },
  {
   "cell_type": "code",
   "execution_count": 119,
   "metadata": {},
   "outputs": [
    {
     "data": {
      "text/plain": [
       "0    [{'_id': '66f56802035c490337d02634', 'playerNu...\n",
       "1    [{'_id': '66f56802035c490337d02636', 'playerNu...\n",
       "Name: players, dtype: object"
      ]
     },
     "execution_count": 119,
     "metadata": {},
     "output_type": "execute_result"
    }
   ],
   "source": [
    "pd.json_normalize(match_data['sides'])['players']"
   ]
  },
  {
   "cell_type": "code",
   "execution_count": 120,
   "metadata": {},
   "outputs": [
    {
     "data": {
      "text/plain": [
       "[{'_id': '66f56802035c490337d02634',\n",
       "  'playerNumber': 1,\n",
       "  'participant': {'verified': False,\n",
       "   '_id': '66f170bd3c78a1ac379b2d9d',\n",
       "   'first_name': 'Rudy',\n",
       "   'last_name': 'Quan'}}]"
      ]
     },
     "execution_count": 120,
     "metadata": {},
     "output_type": "execute_result"
    }
   ],
   "source": [
    "pd.json_normalize(match_data['sides'])['players'][0]\n"
   ]
  },
  {
   "cell_type": "code",
   "execution_count": 121,
   "metadata": {},
   "outputs": [
    {
     "data": {
      "text/plain": [
       "'Rudy Quan'"
      ]
     },
     "execution_count": 121,
     "metadata": {},
     "output_type": "execute_result"
    }
   ],
   "source": [
    "p1_first_name = pd.json_normalize(match_data['sides'])['players'][0][0]['participant']['first_name']\n",
    "p1_last_name = pd.json_normalize(match_data['sides'])['players'][0][0]['participant']['last_name']\n",
    "p1_full_name = p1_first_name + \" \" + p1_last_name\n",
    "p1_full_name"
   ]
  },
  {
   "cell_type": "code",
   "execution_count": 122,
   "metadata": {},
   "outputs": [
    {
     "data": {
      "text/plain": [
       "'Jay Friend'"
      ]
     },
     "execution_count": 122,
     "metadata": {},
     "output_type": "execute_result"
    }
   ],
   "source": [
    "p2_first_name = pd.json_normalize(match_data['sides'])['players'][1][0]['participant']['first_name']\n",
    "p2_last_name = pd.json_normalize(match_data['sides'])['players'][1][0]['participant']['last_name']\n",
    "p2_full_name = p2_first_name + \" \" + p2_last_name\n",
    "p2_full_name"
   ]
  },
  {
   "cell_type": "markdown",
   "metadata": {},
   "source": []
  },
  {
   "cell_type": "code",
   "execution_count": 123,
   "metadata": {},
   "outputs": [
    {
     "data": {
      "text/html": [
       "<div>\n",
       "<style scoped>\n",
       "    .dataframe tbody tr th:only-of-type {\n",
       "        vertical-align: middle;\n",
       "    }\n",
       "\n",
       "    .dataframe tbody tr th {\n",
       "        vertical-align: top;\n",
       "    }\n",
       "\n",
       "    .dataframe thead th {\n",
       "        text-align: right;\n",
       "    }\n",
       "</style>\n",
       "<table border=\"1\" class=\"dataframe\">\n",
       "  <thead>\n",
       "    <tr style=\"text-align: right;\">\n",
       "      <th></th>\n",
       "      <th>_id</th>\n",
       "      <th>games</th>\n",
       "      <th>side1Score</th>\n",
       "      <th>side2Score</th>\n",
       "      <th>serverPickleballOrders</th>\n",
       "      <th>setNumber</th>\n",
       "      <th>winningSide</th>\n",
       "      <th>isCompleted</th>\n",
       "      <th>timestamp</th>\n",
       "      <th>returnerCourtSides</th>\n",
       "    </tr>\n",
       "  </thead>\n",
       "  <tbody>\n",
       "    <tr>\n",
       "      <th>0</th>\n",
       "      <td>66f58809b30c4d06162b7fec</td>\n",
       "      <td>[{'_id': '66f58809b30c4d06162b7fed', 'points':...</td>\n",
       "      <td>7</td>\n",
       "      <td>5</td>\n",
       "      <td>[]</td>\n",
       "      <td>1</td>\n",
       "      <td>1</td>\n",
       "      <td>True</td>\n",
       "      <td>2024-09-26T15:00:35.306Z</td>\n",
       "      <td>[]</td>\n",
       "    </tr>\n",
       "    <tr>\n",
       "      <th>1</th>\n",
       "      <td>66f58809b30c4d06162b8118</td>\n",
       "      <td>[{'_id': '66f58809b30c4d06162b8119', 'points':...</td>\n",
       "      <td>3</td>\n",
       "      <td>6</td>\n",
       "      <td>[]</td>\n",
       "      <td>2</td>\n",
       "      <td>2</td>\n",
       "      <td>True</td>\n",
       "      <td>2024-09-26T15:47:22.560Z</td>\n",
       "      <td>[]</td>\n",
       "    </tr>\n",
       "    <tr>\n",
       "      <th>2</th>\n",
       "      <td>66f58809b30c4d06162b822e</td>\n",
       "      <td>[{'_id': '66f58809b30c4d06162b822f', 'points':...</td>\n",
       "      <td>0</td>\n",
       "      <td>6</td>\n",
       "      <td>[]</td>\n",
       "      <td>3</td>\n",
       "      <td>2</td>\n",
       "      <td>True</td>\n",
       "      <td>2024-09-26T16:12:53.967Z</td>\n",
       "      <td>[]</td>\n",
       "    </tr>\n",
       "  </tbody>\n",
       "</table>\n",
       "</div>"
      ],
      "text/plain": [
       "                        _id  \\\n",
       "0  66f58809b30c4d06162b7fec   \n",
       "1  66f58809b30c4d06162b8118   \n",
       "2  66f58809b30c4d06162b822e   \n",
       "\n",
       "                                               games  side1Score  side2Score  \\\n",
       "0  [{'_id': '66f58809b30c4d06162b7fed', 'points':...           7           5   \n",
       "1  [{'_id': '66f58809b30c4d06162b8119', 'points':...           3           6   \n",
       "2  [{'_id': '66f58809b30c4d06162b822f', 'points':...           0           6   \n",
       "\n",
       "  serverPickleballOrders  setNumber  winningSide  isCompleted  \\\n",
       "0                     []          1            1         True   \n",
       "1                     []          2            2         True   \n",
       "2                     []          3            2         True   \n",
       "\n",
       "                  timestamp returnerCourtSides  \n",
       "0  2024-09-26T15:00:35.306Z                 []  \n",
       "1  2024-09-26T15:47:22.560Z                 []  \n",
       "2  2024-09-26T16:12:53.967Z                 []  "
      ]
     },
     "execution_count": 123,
     "metadata": {},
     "output_type": "execute_result"
    }
   ],
   "source": [
    "pd.json_normalize(match_data['sets'])"
   ]
  },
  {
   "cell_type": "code",
   "execution_count": 124,
   "metadata": {},
   "outputs": [
    {
     "data": {
      "text/html": [
       "<div>\n",
       "<style scoped>\n",
       "    .dataframe tbody tr th:only-of-type {\n",
       "        vertical-align: middle;\n",
       "    }\n",
       "\n",
       "    .dataframe tbody tr th {\n",
       "        vertical-align: top;\n",
       "    }\n",
       "\n",
       "    .dataframe thead th {\n",
       "        text-align: right;\n",
       "    }\n",
       "</style>\n",
       "<table border=\"1\" class=\"dataframe\">\n",
       "  <thead>\n",
       "    <tr style=\"text-align: right;\">\n",
       "      <th></th>\n",
       "      <th>_id</th>\n",
       "      <th>points</th>\n",
       "      <th>side1Score</th>\n",
       "      <th>side2Score</th>\n",
       "      <th>gameFormat</th>\n",
       "      <th>gameNumber</th>\n",
       "      <th>winningSide</th>\n",
       "      <th>timestamp</th>\n",
       "      <th>updated</th>\n",
       "    </tr>\n",
       "  </thead>\n",
       "  <tbody>\n",
       "    <tr>\n",
       "      <th>0</th>\n",
       "      <td>66f58809b30c4d06162b7fed</td>\n",
       "      <td>[{'_id': '66f58809b30c4d06162b7fee', 'side1Sco...</td>\n",
       "      <td>1</td>\n",
       "      <td>0</td>\n",
       "      <td>STANDARD</td>\n",
       "      <td>1</td>\n",
       "      <td>1</td>\n",
       "      <td>2024-09-26T14:15:23.493Z</td>\n",
       "      <td>NaN</td>\n",
       "    </tr>\n",
       "    <tr>\n",
       "      <th>1</th>\n",
       "      <td>66f58809b30c4d06162b8000</td>\n",
       "      <td>[{'_id': '66f58809b30c4d06162b8001', 'side1Sco...</td>\n",
       "      <td>1</td>\n",
       "      <td>1</td>\n",
       "      <td>STANDARD</td>\n",
       "      <td>2</td>\n",
       "      <td>2</td>\n",
       "      <td>2024-09-26T14:19:15.746Z</td>\n",
       "      <td>2024-09-26T14:15:23.493Z</td>\n",
       "    </tr>\n",
       "    <tr>\n",
       "      <th>2</th>\n",
       "      <td>66f58809b30c4d06162b8018</td>\n",
       "      <td>[{'_id': '66f58809b30c4d06162b8019', 'side1Sco...</td>\n",
       "      <td>2</td>\n",
       "      <td>1</td>\n",
       "      <td>STANDARD</td>\n",
       "      <td>3</td>\n",
       "      <td>1</td>\n",
       "      <td>2024-09-26T14:21:31.217Z</td>\n",
       "      <td>2024-09-26T14:19:15.746Z</td>\n",
       "    </tr>\n",
       "    <tr>\n",
       "      <th>3</th>\n",
       "      <td>66f58809b30c4d06162b802a</td>\n",
       "      <td>[{'_id': '66f58809b30c4d06162b802b', 'side1Sco...</td>\n",
       "      <td>3</td>\n",
       "      <td>1</td>\n",
       "      <td>STANDARD</td>\n",
       "      <td>4</td>\n",
       "      <td>1</td>\n",
       "      <td>2024-09-26T14:28:13.587Z</td>\n",
       "      <td>2024-09-26T14:21:31.217Z</td>\n",
       "    </tr>\n",
       "    <tr>\n",
       "      <th>4</th>\n",
       "      <td>66f58809b30c4d06162b8050</td>\n",
       "      <td>[{'_id': '66f58809b30c4d06162b8051', 'side1Sco...</td>\n",
       "      <td>3</td>\n",
       "      <td>2</td>\n",
       "      <td>STANDARD</td>\n",
       "      <td>5</td>\n",
       "      <td>2</td>\n",
       "      <td>2024-09-26T14:32:03.593Z</td>\n",
       "      <td>2024-09-26T14:28:13.587Z</td>\n",
       "    </tr>\n",
       "    <tr>\n",
       "      <th>5</th>\n",
       "      <td>66f58809b30c4d06162b8071</td>\n",
       "      <td>[{'_id': '66f58809b30c4d06162b8072', 'side1Sco...</td>\n",
       "      <td>3</td>\n",
       "      <td>3</td>\n",
       "      <td>STANDARD</td>\n",
       "      <td>6</td>\n",
       "      <td>2</td>\n",
       "      <td>2024-09-26T14:35:40.363Z</td>\n",
       "      <td>2024-09-26T14:32:03.593Z</td>\n",
       "    </tr>\n",
       "    <tr>\n",
       "      <th>6</th>\n",
       "      <td>66f58809b30c4d06162b8082</td>\n",
       "      <td>[{'_id': '66f58809b30c4d06162b8083', 'side1Sco...</td>\n",
       "      <td>4</td>\n",
       "      <td>3</td>\n",
       "      <td>STANDARD</td>\n",
       "      <td>7</td>\n",
       "      <td>1</td>\n",
       "      <td>2024-09-26T14:38:23.978Z</td>\n",
       "      <td>2024-09-26T14:35:40.363Z</td>\n",
       "    </tr>\n",
       "    <tr>\n",
       "      <th>7</th>\n",
       "      <td>66f58809b30c4d06162b8093</td>\n",
       "      <td>[{'_id': '66f58809b30c4d06162b8094', 'side1Sco...</td>\n",
       "      <td>4</td>\n",
       "      <td>4</td>\n",
       "      <td>STANDARD</td>\n",
       "      <td>8</td>\n",
       "      <td>2</td>\n",
       "      <td>2024-09-26T14:43:41.998Z</td>\n",
       "      <td>2024-09-26T14:38:23.978Z</td>\n",
       "    </tr>\n",
       "    <tr>\n",
       "      <th>8</th>\n",
       "      <td>66f58809b30c4d06162b80b6</td>\n",
       "      <td>[{'_id': '66f58809b30c4d06162b80b7', 'side1Sco...</td>\n",
       "      <td>5</td>\n",
       "      <td>4</td>\n",
       "      <td>STANDARD</td>\n",
       "      <td>9</td>\n",
       "      <td>1</td>\n",
       "      <td>2024-09-26T14:49:10.217Z</td>\n",
       "      <td>2024-09-26T14:43:41.998Z</td>\n",
       "    </tr>\n",
       "    <tr>\n",
       "      <th>9</th>\n",
       "      <td>66f58809b30c4d06162b80d1</td>\n",
       "      <td>[{'_id': '66f58809b30c4d06162b80d2', 'side1Sco...</td>\n",
       "      <td>5</td>\n",
       "      <td>5</td>\n",
       "      <td>STANDARD</td>\n",
       "      <td>10</td>\n",
       "      <td>2</td>\n",
       "      <td>2024-09-26T14:52:13.023Z</td>\n",
       "      <td>2024-09-26T14:49:10.217Z</td>\n",
       "    </tr>\n",
       "    <tr>\n",
       "      <th>10</th>\n",
       "      <td>66f58809b30c4d06162b80e3</td>\n",
       "      <td>[{'_id': '66f58809b30c4d06162b80e4', 'side1Sco...</td>\n",
       "      <td>6</td>\n",
       "      <td>5</td>\n",
       "      <td>STANDARD</td>\n",
       "      <td>11</td>\n",
       "      <td>1</td>\n",
       "      <td>2024-09-26T14:55:56.962Z</td>\n",
       "      <td>2024-09-26T14:52:13.023Z</td>\n",
       "    </tr>\n",
       "    <tr>\n",
       "      <th>11</th>\n",
       "      <td>66f58809b30c4d06162b80fd</td>\n",
       "      <td>[{'_id': '66f58809b30c4d06162b80fe', 'side1Sco...</td>\n",
       "      <td>7</td>\n",
       "      <td>5</td>\n",
       "      <td>STANDARD</td>\n",
       "      <td>12</td>\n",
       "      <td>1</td>\n",
       "      <td>2024-09-26T15:00:35.304Z</td>\n",
       "      <td>2024-09-26T14:55:56.962Z</td>\n",
       "    </tr>\n",
       "  </tbody>\n",
       "</table>\n",
       "</div>"
      ],
      "text/plain": [
       "                         _id  \\\n",
       "0   66f58809b30c4d06162b7fed   \n",
       "1   66f58809b30c4d06162b8000   \n",
       "2   66f58809b30c4d06162b8018   \n",
       "3   66f58809b30c4d06162b802a   \n",
       "4   66f58809b30c4d06162b8050   \n",
       "5   66f58809b30c4d06162b8071   \n",
       "6   66f58809b30c4d06162b8082   \n",
       "7   66f58809b30c4d06162b8093   \n",
       "8   66f58809b30c4d06162b80b6   \n",
       "9   66f58809b30c4d06162b80d1   \n",
       "10  66f58809b30c4d06162b80e3   \n",
       "11  66f58809b30c4d06162b80fd   \n",
       "\n",
       "                                               points  side1Score  side2Score  \\\n",
       "0   [{'_id': '66f58809b30c4d06162b7fee', 'side1Sco...           1           0   \n",
       "1   [{'_id': '66f58809b30c4d06162b8001', 'side1Sco...           1           1   \n",
       "2   [{'_id': '66f58809b30c4d06162b8019', 'side1Sco...           2           1   \n",
       "3   [{'_id': '66f58809b30c4d06162b802b', 'side1Sco...           3           1   \n",
       "4   [{'_id': '66f58809b30c4d06162b8051', 'side1Sco...           3           2   \n",
       "5   [{'_id': '66f58809b30c4d06162b8072', 'side1Sco...           3           3   \n",
       "6   [{'_id': '66f58809b30c4d06162b8083', 'side1Sco...           4           3   \n",
       "7   [{'_id': '66f58809b30c4d06162b8094', 'side1Sco...           4           4   \n",
       "8   [{'_id': '66f58809b30c4d06162b80b7', 'side1Sco...           5           4   \n",
       "9   [{'_id': '66f58809b30c4d06162b80d2', 'side1Sco...           5           5   \n",
       "10  [{'_id': '66f58809b30c4d06162b80e4', 'side1Sco...           6           5   \n",
       "11  [{'_id': '66f58809b30c4d06162b80fe', 'side1Sco...           7           5   \n",
       "\n",
       "   gameFormat  gameNumber  winningSide                 timestamp  \\\n",
       "0    STANDARD           1            1  2024-09-26T14:15:23.493Z   \n",
       "1    STANDARD           2            2  2024-09-26T14:19:15.746Z   \n",
       "2    STANDARD           3            1  2024-09-26T14:21:31.217Z   \n",
       "3    STANDARD           4            1  2024-09-26T14:28:13.587Z   \n",
       "4    STANDARD           5            2  2024-09-26T14:32:03.593Z   \n",
       "5    STANDARD           6            2  2024-09-26T14:35:40.363Z   \n",
       "6    STANDARD           7            1  2024-09-26T14:38:23.978Z   \n",
       "7    STANDARD           8            2  2024-09-26T14:43:41.998Z   \n",
       "8    STANDARD           9            1  2024-09-26T14:49:10.217Z   \n",
       "9    STANDARD          10            2  2024-09-26T14:52:13.023Z   \n",
       "10   STANDARD          11            1  2024-09-26T14:55:56.962Z   \n",
       "11   STANDARD          12            1  2024-09-26T15:00:35.304Z   \n",
       "\n",
       "                     updated  \n",
       "0                        NaN  \n",
       "1   2024-09-26T14:15:23.493Z  \n",
       "2   2024-09-26T14:19:15.746Z  \n",
       "3   2024-09-26T14:21:31.217Z  \n",
       "4   2024-09-26T14:28:13.587Z  \n",
       "5   2024-09-26T14:32:03.593Z  \n",
       "6   2024-09-26T14:35:40.363Z  \n",
       "7   2024-09-26T14:38:23.978Z  \n",
       "8   2024-09-26T14:43:41.998Z  \n",
       "9   2024-09-26T14:49:10.217Z  \n",
       "10  2024-09-26T14:52:13.023Z  \n",
       "11  2024-09-26T14:55:56.962Z  "
      ]
     },
     "execution_count": 124,
     "metadata": {},
     "output_type": "execute_result"
    }
   ],
   "source": [
    "pd.json_normalize(pd.json_normalize(match_data['sets'])['games'][0])"
   ]
  },
  {
   "cell_type": "code",
   "execution_count": 125,
   "metadata": {},
   "outputs": [
    {
     "data": {
      "text/html": [
       "<div>\n",
       "<style scoped>\n",
       "    .dataframe tbody tr th:only-of-type {\n",
       "        vertical-align: middle;\n",
       "    }\n",
       "\n",
       "    .dataframe tbody tr th {\n",
       "        vertical-align: top;\n",
       "    }\n",
       "\n",
       "    .dataframe thead th {\n",
       "        text-align: right;\n",
       "    }\n",
       "</style>\n",
       "<table border=\"1\" class=\"dataframe\">\n",
       "  <thead>\n",
       "    <tr style=\"text-align: right;\">\n",
       "      <th></th>\n",
       "      <th>_id</th>\n",
       "      <th>side1Score</th>\n",
       "      <th>side2Score</th>\n",
       "      <th>extensions</th>\n",
       "      <th>shots</th>\n",
       "      <th>pointNumber</th>\n",
       "      <th>winningSide</th>\n",
       "      <th>winReason</th>\n",
       "      <th>timestamp</th>\n",
       "      <th>server._id</th>\n",
       "      <th>server.sideNumber</th>\n",
       "      <th>server.playerNumber</th>\n",
       "      <th>server.player</th>\n",
       "      <th>server.returningSide</th>\n",
       "    </tr>\n",
       "  </thead>\n",
       "  <tbody>\n",
       "    <tr>\n",
       "      <th>0</th>\n",
       "      <td>66f58809b30c4d06162b7fee</td>\n",
       "      <td>1</td>\n",
       "      <td>0</td>\n",
       "      <td>[{'_id': '66f58809b30c4d06162b7fef', 'name': '...</td>\n",
       "      <td>[{'_id': '66f58809b30c4d06162b7ff0', 'particip...</td>\n",
       "      <td>1</td>\n",
       "      <td>1</td>\n",
       "      <td>NONE</td>\n",
       "      <td>2024-09-26T14:13:11.719Z</td>\n",
       "      <td>66f58809b30c4d06162b7ff1</td>\n",
       "      <td>1</td>\n",
       "      <td>1</td>\n",
       "      <td>66f170bd3c78a1ac379b2d9d</td>\n",
       "      <td>DEUCE</td>\n",
       "    </tr>\n",
       "    <tr>\n",
       "      <th>1</th>\n",
       "      <td>66f58809b30c4d06162b7ff2</td>\n",
       "      <td>2</td>\n",
       "      <td>0</td>\n",
       "      <td>[{'_id': '66f58809b30c4d06162b7ff3', 'name': '...</td>\n",
       "      <td>[{'_id': '66f58809b30c4d06162b7ff4', 'particip...</td>\n",
       "      <td>2</td>\n",
       "      <td>1</td>\n",
       "      <td>NONE</td>\n",
       "      <td>2024-09-26T14:14:01.799Z</td>\n",
       "      <td>66f58809b30c4d06162b7ff6</td>\n",
       "      <td>1</td>\n",
       "      <td>1</td>\n",
       "      <td>66f170bd3c78a1ac379b2d9d</td>\n",
       "      <td>AD</td>\n",
       "    </tr>\n",
       "    <tr>\n",
       "      <th>2</th>\n",
       "      <td>66f58809b30c4d06162b7ff7</td>\n",
       "      <td>3</td>\n",
       "      <td>0</td>\n",
       "      <td>[{'_id': '66f58809b30c4d06162b7ff8', 'name': '...</td>\n",
       "      <td>[{'_id': '66f58809b30c4d06162b7ff9', 'particip...</td>\n",
       "      <td>3</td>\n",
       "      <td>1</td>\n",
       "      <td>NONE</td>\n",
       "      <td>2024-09-26T14:14:30.716Z</td>\n",
       "      <td>66f58809b30c4d06162b7ffa</td>\n",
       "      <td>1</td>\n",
       "      <td>1</td>\n",
       "      <td>66f170bd3c78a1ac379b2d9d</td>\n",
       "      <td>DEUCE</td>\n",
       "    </tr>\n",
       "    <tr>\n",
       "      <th>3</th>\n",
       "      <td>66f58809b30c4d06162b7ffb</td>\n",
       "      <td>0</td>\n",
       "      <td>0</td>\n",
       "      <td>[{'_id': '66f58809b30c4d06162b7ffc', 'name': '...</td>\n",
       "      <td>[{'_id': '66f58809b30c4d06162b7ffd', 'particip...</td>\n",
       "      <td>4</td>\n",
       "      <td>1</td>\n",
       "      <td>NONE</td>\n",
       "      <td>2024-09-26T14:15:23.487Z</td>\n",
       "      <td>66f58809b30c4d06162b7fff</td>\n",
       "      <td>1</td>\n",
       "      <td>1</td>\n",
       "      <td>66f170bd3c78a1ac379b2d9d</td>\n",
       "      <td>AD</td>\n",
       "    </tr>\n",
       "  </tbody>\n",
       "</table>\n",
       "</div>"
      ],
      "text/plain": [
       "                        _id  side1Score  side2Score  \\\n",
       "0  66f58809b30c4d06162b7fee           1           0   \n",
       "1  66f58809b30c4d06162b7ff2           2           0   \n",
       "2  66f58809b30c4d06162b7ff7           3           0   \n",
       "3  66f58809b30c4d06162b7ffb           0           0   \n",
       "\n",
       "                                          extensions  \\\n",
       "0  [{'_id': '66f58809b30c4d06162b7fef', 'name': '...   \n",
       "1  [{'_id': '66f58809b30c4d06162b7ff3', 'name': '...   \n",
       "2  [{'_id': '66f58809b30c4d06162b7ff8', 'name': '...   \n",
       "3  [{'_id': '66f58809b30c4d06162b7ffc', 'name': '...   \n",
       "\n",
       "                                               shots  pointNumber  \\\n",
       "0  [{'_id': '66f58809b30c4d06162b7ff0', 'particip...            1   \n",
       "1  [{'_id': '66f58809b30c4d06162b7ff4', 'particip...            2   \n",
       "2  [{'_id': '66f58809b30c4d06162b7ff9', 'particip...            3   \n",
       "3  [{'_id': '66f58809b30c4d06162b7ffd', 'particip...            4   \n",
       "\n",
       "   winningSide winReason                 timestamp                server._id  \\\n",
       "0            1      NONE  2024-09-26T14:13:11.719Z  66f58809b30c4d06162b7ff1   \n",
       "1            1      NONE  2024-09-26T14:14:01.799Z  66f58809b30c4d06162b7ff6   \n",
       "2            1      NONE  2024-09-26T14:14:30.716Z  66f58809b30c4d06162b7ffa   \n",
       "3            1      NONE  2024-09-26T14:15:23.487Z  66f58809b30c4d06162b7fff   \n",
       "\n",
       "   server.sideNumber  server.playerNumber             server.player  \\\n",
       "0                  1                    1  66f170bd3c78a1ac379b2d9d   \n",
       "1                  1                    1  66f170bd3c78a1ac379b2d9d   \n",
       "2                  1                    1  66f170bd3c78a1ac379b2d9d   \n",
       "3                  1                    1  66f170bd3c78a1ac379b2d9d   \n",
       "\n",
       "  server.returningSide  \n",
       "0                DEUCE  \n",
       "1                   AD  \n",
       "2                DEUCE  \n",
       "3                   AD  "
      ]
     },
     "execution_count": 125,
     "metadata": {},
     "output_type": "execute_result"
    }
   ],
   "source": [
    "pd.json_normalize(pd.json_normalize(pd.json_normalize(match_data['sets'])['games'][0])['points'][0])"
   ]
  },
  {
   "cell_type": "code",
   "execution_count": 126,
   "metadata": {},
   "outputs": [],
   "source": [
    "from selenium import webdriver\n",
    "from selenium.webdriver.common.by import By\n",
    "from selenium.webdriver.support.ui import WebDriverWait\n",
    "from selenium.webdriver.support import expected_conditions as EC\n"
   ]
  },
  {
   "cell_type": "code",
   "execution_count": 128,
   "metadata": {},
   "outputs": [
    {
     "name": "stdout",
     "output_type": "stream",
     "text": [
      "QUAN, R.\n",
      "General\n",
      "FRIEND, J.\n",
      "73/164 (45%)\n",
      "Total Points Won\n",
      "91/164 (55%)\n",
      "0\n",
      "Short Rally\n",
      "(0-4)\n",
      "0\n",
      "0\n",
      "Medium Rally\n",
      "(5-8)\n",
      "0\n",
      "0\n",
      "Long Rally\n",
      "(9+)\n",
      "0\n",
      "0\n",
      "Winners\n",
      "1\n",
      "0\n",
      "Forced Errors\n",
      "0\n",
      "2\n",
      "Unforced Errors\n",
      "5\n",
      "-2\n",
      "Aggressive Margin\n",
      "-4\n",
      "QUAN, R.\n",
      "Serve\n",
      "FRIEND, J.\n",
      "0\n",
      "Aces\n",
      "1\n",
      "2\n",
      "Double Faults\n",
      "5\n",
      "61/80 (76%)\n",
      "1st Serve %\n",
      "58/84 (69%)\n",
      "32/61 (52%)\n",
      "1st Serve Points Won\n",
      "41/58 (71%)\n",
      "9/19 (47%)\n",
      "2nd Serve Points Won\n",
      "11/26 (42%)\n",
      "41/80 (51%)\n",
      "Total Serve Points Won\n",
      "52/84 (62%)\n",
      "QUAN, R.\n",
      "Return\n",
      "FRIEND, J.\n",
      "0/79 (0%)\n",
      "Returns Made\n",
      "0/78 (0%)\n",
      "17/58 (29%)\n",
      "1st Serve Return Points Won\n",
      "29/61 (48%)\n",
      "15/26 (58%)\n",
      "2nd Serve Return Points Won\n",
      "10/19 (53%)\n",
      "32/84 (38%)\n",
      "Total Return Points Won\n",
      "39/80 (49%)\n",
      "3/11 (27%)\n",
      "Break Points Won\n",
      "7/11 (64%)\n"
     ]
    }
   ],
   "source": [
    "driver = webdriver.Chrome()\n",
    "\n",
    "try:\n",
    "    driver = webdriver.Chrome()\n",
    "\n",
    "    url = 'https://ioncourt.com/live-scoring/66f56802035c490337d02632'\n",
    "    driver.get(url)\n",
    "\n",
    "    stats_button = WebDriverWait(driver, 30).until(\n",
    "        EC.element_to_be_clickable((By.XPATH, \"//*[@value='stats']\"))\n",
    "    )\n",
    "\n",
    "    stats_button.click()\n",
    "\n",
    "    stats_grid = WebDriverWait(driver, 30).until(\n",
    "        EC.presence_of_element_located((By.XPATH, '//*[@id=\"content\"]/app-match-tracker/ion-content/div[3]/app-stats/ion-grid'))\n",
    "    )\n",
    "\n",
    "    print(stats_grid.text)\n",
    "\n",
    "    raw_data = stats_grid.text \n",
    "\n",
    "except Exception as e:\n",
    "    print(\"Error occurred:\", e)\n",
    "\n",
    "finally:\n",
    "    # Close the WebDriver\n",
    "    driver.quit()"
   ]
  },
  {
   "cell_type": "code",
   "execution_count": 129,
   "metadata": {},
   "outputs": [],
   "source": [
    "import csv\n",
    "import pandas as pd \n",
    "\n",
    "player1_stats = {}\n",
    "player2_stats = {}\n",
    "\n",
    "lines = raw_data.strip().splitlines()\n",
    "\n",
    "start_index = 33\n",
    "relevant_lines = lines[start_index:]\n",
    "\n",
    "stats = {\n",
    "    \"aces_player1\": \"\",\n",
    "    \"aces_player2\": \"\",\n",
    "    \"double_faults_player1\": \"\",\n",
    "    \"double_faults_player2\": \"\",\n",
    "    \"1st_serve_percentage_player1\": \"\",\n",
    "    \"1st_serve_percentage_player2\": \"\",\n",
    "    \"1st_serve_points_won_player1\": \"\",\n",
    "    \"1st_serve_points_won_player2\": \"\",\n",
    "    \"2nd_serve_points_won_player1\": \"\",\n",
    "    \"2nd_serve_points_won_player2\": \"\",\n",
    "    \"total_serve_points_won_player1\": \"\",\n",
    "    \"total_serve_points_won_player2\": \"\",\n",
    "    \"returns_player1\": \"\",\n",
    "    \"returns_player2\": \"\",\n",
    "    \"returns_made_player1\": \"\",\n",
    "    \"returns_made_player2\": \"\",\n",
    "    \"1st_serve_return_points_won_player1\": \"\",\n",
    "    \"1st_serve_return_points_won_player2\": \"\",\n",
    "    \"2nd_serve_return_points_won_player1\": \"\",\n",
    "    \"2nd_serve_return_points_won_player2\": \"\",\n",
    "    \"total_return_points_won_player1\": \"\",\n",
    "    \"total_return_points_won_player2\": \"\",\n",
    "    \"break_points_won_player1\": \"\",\n",
    "    \"break_points_won_player2\": \"\",\n",
    "    \n",
    "    \n",
    "}\n",
    "\n",
    "stat_keys = [\n",
    "    \"aces_player1\",\n",
    "    \"aces_player2\",\n",
    "    \"double_faults_player1\",\n",
    "    \"double_faults_player2\",\n",
    "    \"1st_serve_percentage_player1\",\n",
    "    \"1st_serve_percentage_player2\",\n",
    "    \"1st_serve_points_won_player1\",\n",
    "    \"1st_serve_points_won_player2\",\n",
    "    \"2nd_serve_points_won_player1\",\n",
    "    \"2nd_serve_points_won_player2\",\n",
    "    \"total_serve_points_won_player1\",\n",
    "    \"total_serve_points_won_player2\",\n",
    "    \"returns_player1\",\n",
    "    \"returns_player2\",\n",
    "    \"returns_made_player1\",\n",
    "    \"returns_made_player2\",\n",
    "    \"1st_serve_return_points_won_player1\",\n",
    "    \"1st_serve_return_points_won_player2\",\n",
    "    \"2nd_serve_return_points_won_player1\",\n",
    "    \"2nd_serve_return_points_won_player2\",\n",
    "    \"total_return_points_won_player1\",\n",
    "    \"total_return_points_won_player2\",\n",
    "    \"break_points_won_player1\",\n",
    "    \"break_points_won_player2\",\n",
    "]\n",
    "\n",
    "j = 0  # Initialize the index for stat_keys\n",
    "\n",
    "for i in range(0, len(relevant_lines), 3): \n",
    "    if j < len(stat_keys):  \n",
    "        stats[stat_keys[j]] = relevant_lines[i].strip()  \n",
    "        j += 1\n",
    "    if j < len(stat_keys): \n",
    "        stats[stat_keys[j]] = relevant_lines[i + 2].strip()\n",
    "        j += 1\n",
    "\n",
    "df = pd.DataFrame([stats])\n",
    "\n",
    "df = df.drop(columns=[\"returns_player1\", \"returns_player2\"])\n",
    "\n",
    "\n",
    "\n",
    "df.to_csv('~/Downloads/player_stats_test1.csv', index=False)\n",
    "\n",
    "# still need date, round, player1, player2, score, tournament \n",
    "\n"
   ]
  },
  {
   "cell_type": "code",
   "execution_count": 158,
   "metadata": {},
   "outputs": [
    {
     "name": "stdout",
     "output_type": "stream",
     "text": [
      "Page loaded.\n",
      "Element found.\n",
      "Tournament Name: 2024 ITA Men's All-American Championships\n"
     ]
    }
   ],
   "source": [
    "tournament_name_url\n",
    "\n",
    "from selenium import webdriver\n",
    "from selenium.webdriver.common.by import By\n",
    "from selenium.webdriver.support.ui import WebDriverWait\n",
    "from selenium.webdriver.support import expected_conditions as EC\n",
    "from selenium.webdriver.chrome.service import Service\n",
    "from selenium.webdriver.chrome.options import Options\n",
    "\n",
    "import time\n",
    "\n",
    "driver = webdriver.Chrome()\n",
    "\n",
    "# The URL to visit\n",
    "url = tournament_url\n",
    "\n",
    "try:\n",
    "    driver.get(\"https://ioncourt.com/tournaments/66ed9d733c78a1ac3794826b/live-score\")\n",
    "    print(\"Page loaded.\")\n",
    "    \n",
    "    time.sleep(5)\n",
    "\n",
    "    tournament_label = WebDriverWait(driver, 20).until(\n",
    "        EC.visibility_of_element_located(\n",
    "            (By.XPATH, '//*[@id=\"content\"]/app-tournament-details/ion-tabs/div/ion-router-outlet/app-live-score/app-tournament-header/ion-header/ion-toolbar[1]/ion-item/ion-label')\n",
    "        )\n",
    "    )\n",
    "    print(\"Element found.\")\n",
    "    \n",
    "    tournament_name = tournament_label.text.strip()\n",
    "    print(\"Tournament Name:\", tournament_name)\n",
    "\n",
    "except Exception as e:\n",
    "    print(\"Error:\", e)\n",
    "\n",
    "finally:\n",
    "    driver.quit()\n",
    "\n"
   ]
  },
  {
   "cell_type": "code",
   "execution_count": null,
   "metadata": {},
   "outputs": [],
   "source": []
  }
 ],
 "metadata": {
  "kernelspec": {
   "display_name": ".venv",
   "language": "python",
   "name": "python3"
  },
  "language_info": {
   "codemirror_mode": {
    "name": "ipython",
    "version": 3
   },
   "file_extension": ".py",
   "mimetype": "text/x-python",
   "name": "python",
   "nbconvert_exporter": "python",
   "pygments_lexer": "ipython3",
   "version": "3.12.1"
  }
 },
 "nbformat": 4,
 "nbformat_minor": 2
}
